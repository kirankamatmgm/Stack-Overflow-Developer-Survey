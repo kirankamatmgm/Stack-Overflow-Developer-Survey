{
 "cells": [
  {
   "cell_type": "markdown",
   "metadata": {
    "papermill": {
     "duration": 0.038016,
     "end_time": "2021-01-24T12:35:19.134066",
     "exception": false,
     "start_time": "2021-01-24T12:35:19.096050",
     "status": "completed"
    },
    "tags": []
   },
   "source": [
    "# Can we guess if Formal Education or contributing to opensource or working in which part of the world earns us more salary?\n",
    "\n",
    "I am using Stack overflow Annual Developer survey Data from 2017 to 2020. You can find it [here](https://insights.stackoverflow.com/survey).  \n",
    "If you are using kaggle then you can find the data [here](https://www.kaggle.com/haakakak/stack-overflow-developer-surveys-20152020#)."
   ]
  },
  {
   "cell_type": "markdown",
   "metadata": {
    "papermill": {
     "duration": 0.035738,
     "end_time": "2021-01-24T12:35:19.207291",
     "exception": false,
     "start_time": "2021-01-24T12:35:19.171553",
     "status": "completed"
    },
    "tags": []
   },
   "source": [
    "# Business understanding\n",
    "\n",
    "In this analysis, I want to concentrate/ask 4 Questions, and try to reach to Solution with Data I have.  \n",
    "Data -> Question -> Solution.\n",
    "\n",
    "\n",
    "Questions?\n",
    "1. [Is Formal Education necessary to become Professional Developer?](#Question1)\n",
    "2. [As a Software engineer, Is it better to work in India or move to Western countries?](#Question2)\n",
    "3. [Which country has the most number of developers in last 4 years? and where does India stand in terms of total number of developers?](#Question3)\n",
    "4. [Will you earn more salary if you contribute to open source?](#Question4)"
   ]
  },
  {
   "cell_type": "markdown",
   "metadata": {
    "papermill": {
     "duration": 0.036198,
     "end_time": "2021-01-24T12:35:19.279633",
     "exception": false,
     "start_time": "2021-01-24T12:35:19.243435",
     "status": "completed"
    },
    "tags": []
   },
   "source": [
    "Import all the libraries required in one cell."
   ]
  },
  {
   "cell_type": "code",
   "execution_count": 1,
   "metadata": {
    "_cell_guid": "b1076dfc-b9ad-4769-8c92-a6c4dae69d19",
    "_uuid": "8f2839f25d086af736a60e9eeb907d3b93b6e0e5",
    "execution": {
     "iopub.execute_input": "2021-01-24T12:35:19.361206Z",
     "iopub.status.busy": "2021-01-24T12:35:19.360312Z",
     "iopub.status.idle": "2021-01-24T12:35:20.518497Z",
     "shell.execute_reply": "2021-01-24T12:35:20.517665Z"
    },
    "papermill": {
     "duration": 1.202977,
     "end_time": "2021-01-24T12:35:20.518641",
     "exception": false,
     "start_time": "2021-01-24T12:35:19.315664",
     "status": "completed"
    },
    "tags": []
   },
   "outputs": [],
   "source": [
    "import numpy as np # linear algebra\n",
    "import pandas as pd # data processing, CSV file I/O (e.g. pd.read_csv)\n",
    "import seaborn as sns # Python data visualization library based on matplotlib\n",
    "import matplotlib.pyplot as plt # plotting library for the Python programming language\n",
    "import math\n",
    "from matplotlib import cm # for Builtin colormaps\n",
    "%matplotlib inline\n",
    "\n",
    "cmap = cm.get_cmap('prism') # Colour map"
   ]
  },
  {
   "cell_type": "markdown",
   "metadata": {
    "papermill": {
     "duration": 0.038617,
     "end_time": "2021-01-24T12:35:20.596147",
     "exception": false,
     "start_time": "2021-01-24T12:35:20.557530",
     "status": "completed"
    },
    "tags": []
   },
   "source": [
    "# Data Understanding\n",
    "\n",
    "We have 2 datasets every year.  \n",
    "For example year 2020  \n",
    "df_2020: It consist entire dataset\n",
    "df_2020_Schema: It consist of column name from df_2020 and question asked for that column to fill the details in survey\n",
    "\n",
    "Let us look at what we understand from data for each question in the respective section."
   ]
  },
  {
   "cell_type": "code",
   "execution_count": 2,
   "metadata": {
    "execution": {
     "iopub.execute_input": "2021-01-24T12:35:20.686053Z",
     "iopub.status.busy": "2021-01-24T12:35:20.685300Z",
     "iopub.status.idle": "2021-01-24T12:35:39.321531Z",
     "shell.execute_reply": "2021-01-24T12:35:39.322380Z"
    },
    "papermill": {
     "duration": 18.689744,
     "end_time": "2021-01-24T12:35:39.322547",
     "exception": false,
     "start_time": "2021-01-24T12:35:20.632803",
     "status": "completed"
    },
    "tags": []
   },
   "outputs": [],
   "source": [
    "df_2020 = pd.read_csv('../input/stack-overflow-developer-surveys-20152020/developer_survey_2020(1)/survey_results_public.csv',low_memory=False)\n",
    "df_2020_Schema = pd.read_csv('../input/stack-overflow-developer-surveys-20152020/developer_survey_2020(1)/survey_results_schema.csv',low_memory=False)\n",
    "\n",
    "df_2019 = pd.read_csv('../input/stack-overflow-developer-surveys-20152020/developer_survey_2019/survey_results_public.csv',low_memory=False)\n",
    "df_2019_Schema = pd.read_csv('../input/stack-overflow-developer-surveys-20152020/developer_survey_2019/survey_results_schema.csv',low_memory=False)\n",
    "\n",
    "df_2018 = pd.read_csv('../input/stack-overflow-developer-surveys-20152020/developer_survey_2018/survey_results_public.csv',low_memory=False)\n",
    "df_2018_Schema = pd.read_csv('../input/stack-overflow-developer-surveys-20152020/developer_survey_2018/survey_results_schema.csv',low_memory=False)\n",
    "\n",
    "df_2017 = pd.read_csv('../input/stack-overflow-developer-surveys-20152020/developer_survey_2017/survey_results_public.csv',low_memory=False)\n",
    "df_2017_Schema = pd.read_csv('../input/stack-overflow-developer-surveys-20152020/developer_survey_2017/survey_results_schema.csv',low_memory=False)"
   ]
  },
  {
   "cell_type": "markdown",
   "metadata": {
    "papermill": {
     "duration": 0.03616,
     "end_time": "2021-01-24T12:35:39.395420",
     "exception": false,
     "start_time": "2021-01-24T12:35:39.359260",
     "status": "completed"
    },
    "tags": []
   },
   "source": [
    "# 1. Is Formal Education necessary to become Professional Developer? <a name=\"Question1\"></a>"
   ]
  },
  {
   "cell_type": "markdown",
   "metadata": {
    "papermill": {
     "duration": 0.035876,
     "end_time": "2021-01-24T12:35:39.468236",
     "exception": false,
     "start_time": "2021-01-24T12:35:39.432360",
     "status": "completed"
    },
    "tags": []
   },
   "source": [
    "To make this analysis, required column are present only in 2020 dataset, so I am considering only 2020 dataset for this question."
   ]
  },
  {
   "cell_type": "code",
   "execution_count": 3,
   "metadata": {
    "execution": {
     "iopub.execute_input": "2021-01-24T12:35:39.544901Z",
     "iopub.status.busy": "2021-01-24T12:35:39.544210Z",
     "iopub.status.idle": "2021-01-24T12:35:39.550096Z",
     "shell.execute_reply": "2021-01-24T12:35:39.550719Z"
    },
    "papermill": {
     "duration": 0.045865,
     "end_time": "2021-01-24T12:35:39.550865",
     "exception": false,
     "start_time": "2021-01-24T12:35:39.505000",
     "status": "completed"
    },
    "tags": []
   },
   "outputs": [],
   "source": [
    "def plot_bar_chart(df, column, title):\n",
    "    '''\n",
    "    Displays a horizontal bar chart with a title\n",
    "    \n",
    "    Parameters:\n",
    "    df: a dataframe\n",
    "    column: the column which we want to show\n",
    "    title: the title of the chart\n",
    "    \n",
    "    Returns:\n",
    "    None\n",
    "    \n",
    "    Using this function we can plot bar chart easily and set scale of percentage for each column\n",
    "    \n",
    "    '''\n",
    "    (df[column].value_counts(normalize=True)).plot(kind=\"barh\",cmap=cmap);\n",
    "    plt.title(title);"
   ]
  },
  {
   "cell_type": "markdown",
   "metadata": {
    "papermill": {
     "duration": 0.03613,
     "end_time": "2021-01-24T12:35:39.623869",
     "exception": false,
     "start_time": "2021-01-24T12:35:39.587739",
     "status": "completed"
    },
    "tags": []
   },
   "source": [
    "plotting column 'NEWEdImpt' which tells importance of formal education, and checking count for each answer."
   ]
  },
  {
   "cell_type": "code",
   "execution_count": 4,
   "metadata": {
    "execution": {
     "iopub.execute_input": "2021-01-24T12:35:39.700391Z",
     "iopub.status.busy": "2021-01-24T12:35:39.699669Z",
     "iopub.status.idle": "2021-01-24T12:35:39.929781Z",
     "shell.execute_reply": "2021-01-24T12:35:39.928338Z"
    },
    "papermill": {
     "duration": 0.269353,
     "end_time": "2021-01-24T12:35:39.929910",
     "exception": false,
     "start_time": "2021-01-24T12:35:39.660557",
     "status": "completed"
    },
    "tags": []
   },
   "outputs": [
    {
     "data": {
      "image/png": "[encoded data removed]",
      "text/plain": [
       "<Figure size 432x288 with 1 Axes>"
      ]
     },
     "metadata": {
      "needs_background": "light"
     },
     "output_type": "display_data"
    }
   ],
   "source": [
    "# countplot is used to plot the counts of observations in each categorical bin using bars\n",
    "sns.countplot(y='NEWEdImpt',data=df_2020);"
   ]
  },
  {
   "cell_type": "code",
   "execution_count": 5,
   "metadata": {
    "execution": {
     "iopub.execute_input": "2021-01-24T12:35:40.024799Z",
     "iopub.status.busy": "2021-01-24T12:35:40.023810Z",
     "iopub.status.idle": "2021-01-24T12:35:40.211424Z",
     "shell.execute_reply": "2021-01-24T12:35:40.210701Z"
    },
    "papermill": {
     "duration": 0.2439,
     "end_time": "2021-01-24T12:35:40.211538",
     "exception": false,
     "start_time": "2021-01-24T12:35:39.967638",
     "status": "completed"
    },
    "tags": []
   },
   "outputs": [
    {
     "data": {
      "image/png": "[encoded data removed]",
      "text/plain": [
       "<Figure size 432x288 with 1 Axes>"
      ]
     },
     "metadata": {
      "needs_background": "light"
     },
     "output_type": "display_data"
    }
   ],
   "source": [
    "# plot using plot_bar_chart function\n",
    "plot_bar_chart(df_2020, \"NEWEdImpt\", \"Formal Education Importance?\")"
   ]
  },
  {
   "cell_type": "code",
   "execution_count": 6,
   "metadata": {
    "execution": {
     "iopub.execute_input": "2021-01-24T12:35:40.310369Z",
     "iopub.status.busy": "2021-01-24T12:35:40.309318Z",
     "iopub.status.idle": "2021-01-24T12:35:40.313453Z",
     "shell.execute_reply": "2021-01-24T12:35:40.312886Z"
    },
    "papermill": {
     "duration": 0.063659,
     "end_time": "2021-01-24T12:35:40.313569",
     "exception": false,
     "start_time": "2021-01-24T12:35:40.249910",
     "status": "completed"
    },
    "tags": []
   },
   "outputs": [
    {
     "data": {
      "text/plain": [
       "Fairly important                      0.261508\n",
       "Very important                        0.244836\n",
       "Somewhat important                    0.234974\n",
       "Not at all important/not necessary    0.160631\n",
       "Critically important                  0.098050\n",
       "Name: NEWEdImpt, dtype: float64"
      ]
     },
     "execution_count": 6,
     "metadata": {},
     "output_type": "execute_result"
    }
   ],
   "source": [
    "# Percentage of each value in NEWEdImpt column\n",
    "df_2020.NEWEdImpt.value_counts(normalize=True)"
   ]
  },
  {
   "cell_type": "markdown",
   "metadata": {
    "papermill": {
     "duration": 0.038529,
     "end_time": "2021-01-24T12:35:40.391141",
     "exception": false,
     "start_time": "2021-01-24T12:35:40.352612",
     "status": "completed"
    },
    "tags": []
   },
   "source": [
    "- Almost 85% of the respondents that are professional developers feel that formal education is at least somewhat important, \n",
    "- which is contrary to the popular idiom that you don't need formal education to become a developer. \n",
    "- However, almost 16% believe that it is not at all important or necessary.\n",
    "\n",
    "To get fare point of view we will compare Formal Education importance with Salary they earn.\n",
    "\n",
    "We dont want to manipulate our decision with everyone's opinion so I am considering only Professional developer.\n"
   ]
  },
  {
   "cell_type": "markdown",
   "metadata": {
    "papermill": {
     "duration": 0.038094,
     "end_time": "2021-01-24T12:35:40.467808",
     "exception": false,
     "start_time": "2021-01-24T12:35:40.429714",
     "status": "completed"
    },
    "tags": []
   },
   "source": [
    "For handling with missing values I am droping all the rows which doesnt have NEWEdImpt and Salary.\n",
    "\n",
    "Two reason for dropping\n",
    "- I can afford to do this because I have huge data left after this\n",
    "- Imputing data for salary may manipulate the opinion about formal education."
   ]
  },
  {
   "cell_type": "code",
   "execution_count": 7,
   "metadata": {
    "execution": {
     "iopub.execute_input": "2021-01-24T12:35:40.548660Z",
     "iopub.status.busy": "2021-01-24T12:35:40.548005Z",
     "iopub.status.idle": "2021-01-24T12:35:40.659918Z",
     "shell.execute_reply": "2021-01-24T12:35:40.659378Z"
    },
    "papermill": {
     "duration": 0.153357,
     "end_time": "2021-01-24T12:35:40.660058",
     "exception": false,
     "start_time": "2021-01-24T12:35:40.506701",
     "status": "completed"
    },
    "tags": []
   },
   "outputs": [
    {
     "data": {
      "text/html": [
       "<div>\n",
       "<style scoped>\n",
       "    .dataframe tbody tr th:only-of-type {\n",
       "        vertical-align: middle;\n",
       "    }\n",
       "\n",
       "    .dataframe tbody tr th {\n",
       "        vertical-align: top;\n",
       "    }\n",
       "\n",
       "    .dataframe thead th {\n",
       "        text-align: right;\n",
       "    }\n",
       "</style>\n",
       "<table border=\"1\" class=\"dataframe\">\n",
       "  <thead>\n",
       "    <tr style=\"text-align: right;\">\n",
       "      <th></th>\n",
       "      <th>Respondent</th>\n",
       "      <th>MainBranch</th>\n",
       "      <th>Hobbyist</th>\n",
       "      <th>Age</th>\n",
       "      <th>Age1stCode</th>\n",
       "      <th>CompFreq</th>\n",
       "      <th>CompTotal</th>\n",
       "      <th>ConvertedComp</th>\n",
       "      <th>Country</th>\n",
       "      <th>CurrencyDesc</th>\n",
       "      <th>...</th>\n",
       "      <th>SurveyEase</th>\n",
       "      <th>SurveyLength</th>\n",
       "      <th>Trans</th>\n",
       "      <th>UndergradMajor</th>\n",
       "      <th>WebframeDesireNextYear</th>\n",
       "      <th>WebframeWorkedWith</th>\n",
       "      <th>WelcomeChange</th>\n",
       "      <th>WorkWeekHrs</th>\n",
       "      <th>YearsCode</th>\n",
       "      <th>YearsCodePro</th>\n",
       "    </tr>\n",
       "  </thead>\n",
       "  <tbody>\n",
       "    <tr>\n",
       "      <th>7</th>\n",
       "      <td>8</td>\n",
       "      <td>I am a developer by profession</td>\n",
       "      <td>Yes</td>\n",
       "      <td>36.0</td>\n",
       "      <td>12</td>\n",
       "      <td>Yearly</td>\n",
       "      <td>116000.0</td>\n",
       "      <td>116000.0</td>\n",
       "      <td>United States</td>\n",
       "      <td>United States dollar</td>\n",
       "      <td>...</td>\n",
       "      <td>Easy</td>\n",
       "      <td>Appropriate in length</td>\n",
       "      <td>No</td>\n",
       "      <td>Computer science, computer engineering, or sof...</td>\n",
       "      <td>Django;React.js;Vue.js</td>\n",
       "      <td>Flask</td>\n",
       "      <td>Just as welcome now as I felt last year</td>\n",
       "      <td>39.0</td>\n",
       "      <td>17</td>\n",
       "      <td>13</td>\n",
       "    </tr>\n",
       "    <tr>\n",
       "      <th>9</th>\n",
       "      <td>10</td>\n",
       "      <td>I am a developer by profession</td>\n",
       "      <td>Yes</td>\n",
       "      <td>22.0</td>\n",
       "      <td>14</td>\n",
       "      <td>Yearly</td>\n",
       "      <td>25000.0</td>\n",
       "      <td>32315.0</td>\n",
       "      <td>United Kingdom</td>\n",
       "      <td>Pound sterling</td>\n",
       "      <td>...</td>\n",
       "      <td>Easy</td>\n",
       "      <td>Appropriate in length</td>\n",
       "      <td>No</td>\n",
       "      <td>Mathematics or statistics</td>\n",
       "      <td>Flask;jQuery</td>\n",
       "      <td>Flask;jQuery</td>\n",
       "      <td>Somewhat more welcome now than last year</td>\n",
       "      <td>36.0</td>\n",
       "      <td>8</td>\n",
       "      <td>4</td>\n",
       "    </tr>\n",
       "    <tr>\n",
       "      <th>10</th>\n",
       "      <td>11</td>\n",
       "      <td>I am a developer by profession</td>\n",
       "      <td>Yes</td>\n",
       "      <td>23.0</td>\n",
       "      <td>13</td>\n",
       "      <td>Yearly</td>\n",
       "      <td>31000.0</td>\n",
       "      <td>40070.0</td>\n",
       "      <td>United Kingdom</td>\n",
       "      <td>Pound sterling</td>\n",
       "      <td>...</td>\n",
       "      <td>Easy</td>\n",
       "      <td>Appropriate in length</td>\n",
       "      <td>No</td>\n",
       "      <td>Computer science, computer engineering, or sof...</td>\n",
       "      <td>Angular;Django;React.js</td>\n",
       "      <td>Angular;Angular.js;Django;React.js</td>\n",
       "      <td>Just as welcome now as I felt last year</td>\n",
       "      <td>40.0</td>\n",
       "      <td>10</td>\n",
       "      <td>2</td>\n",
       "    </tr>\n",
       "    <tr>\n",
       "      <th>11</th>\n",
       "      <td>12</td>\n",
       "      <td>I am a developer by profession</td>\n",
       "      <td>No</td>\n",
       "      <td>49.0</td>\n",
       "      <td>42</td>\n",
       "      <td>Monthly</td>\n",
       "      <td>1100.0</td>\n",
       "      <td>14268.0</td>\n",
       "      <td>Spain</td>\n",
       "      <td>European Euro</td>\n",
       "      <td>...</td>\n",
       "      <td>Easy</td>\n",
       "      <td>Appropriate in length</td>\n",
       "      <td>No</td>\n",
       "      <td>Mathematics or statistics</td>\n",
       "      <td>ASP.NET;jQuery</td>\n",
       "      <td>ASP.NET;jQuery</td>\n",
       "      <td>Just as welcome now as I felt last year</td>\n",
       "      <td>40.0</td>\n",
       "      <td>7</td>\n",
       "      <td>7</td>\n",
       "    </tr>\n",
       "    <tr>\n",
       "      <th>13</th>\n",
       "      <td>14</td>\n",
       "      <td>I am a developer by profession</td>\n",
       "      <td>Yes</td>\n",
       "      <td>27.0</td>\n",
       "      <td>13</td>\n",
       "      <td>Yearly</td>\n",
       "      <td>66000.0</td>\n",
       "      <td>66000.0</td>\n",
       "      <td>United States</td>\n",
       "      <td>United States dollar</td>\n",
       "      <td>...</td>\n",
       "      <td>Neither easy nor difficult</td>\n",
       "      <td>Appropriate in length</td>\n",
       "      <td>No</td>\n",
       "      <td>Computer science, computer engineering, or sof...</td>\n",
       "      <td>Angular;Vue.js</td>\n",
       "      <td>Angular;Vue.js</td>\n",
       "      <td>Just as welcome now as I felt last year</td>\n",
       "      <td>40.0</td>\n",
       "      <td>5</td>\n",
       "      <td>1</td>\n",
       "    </tr>\n",
       "  </tbody>\n",
       "</table>\n",
       "<p>5 rows × 61 columns</p>\n",
       "</div>"
      ],
      "text/plain": [
       "    Respondent                      MainBranch Hobbyist   Age Age1stCode  \\\n",
       "7            8  I am a developer by profession      Yes  36.0         12   \n",
       "9           10  I am a developer by profession      Yes  22.0         14   \n",
       "10          11  I am a developer by profession      Yes  23.0         13   \n",
       "11          12  I am a developer by profession       No  49.0         42   \n",
       "13          14  I am a developer by profession      Yes  27.0         13   \n",
       "\n",
       "   CompFreq  CompTotal  ConvertedComp         Country          CurrencyDesc  \\\n",
       "7    Yearly   116000.0       116000.0   United States  United States dollar   \n",
       "9    Yearly    25000.0        32315.0  United Kingdom        Pound sterling   \n",
       "10   Yearly    31000.0        40070.0  United Kingdom        Pound sterling   \n",
       "11  Monthly     1100.0        14268.0           Spain         European Euro   \n",
       "13   Yearly    66000.0        66000.0   United States  United States dollar   \n",
       "\n",
       "    ...                  SurveyEase           SurveyLength Trans  \\\n",
       "7   ...                        Easy  Appropriate in length    No   \n",
       "9   ...                        Easy  Appropriate in length    No   \n",
       "10  ...                        Easy  Appropriate in length    No   \n",
       "11  ...                        Easy  Appropriate in length    No   \n",
       "13  ...  Neither easy nor difficult  Appropriate in length    No   \n",
       "\n",
       "                                       UndergradMajor  \\\n",
       "7   Computer science, computer engineering, or sof...   \n",
       "9                           Mathematics or statistics   \n",
       "10  Computer science, computer engineering, or sof...   \n",
       "11                          Mathematics or statistics   \n",
       "13  Computer science, computer engineering, or sof...   \n",
       "\n",
       "     WebframeDesireNextYear                  WebframeWorkedWith  \\\n",
       "7    Django;React.js;Vue.js                               Flask   \n",
       "9              Flask;jQuery                        Flask;jQuery   \n",
       "10  Angular;Django;React.js  Angular;Angular.js;Django;React.js   \n",
       "11           ASP.NET;jQuery                      ASP.NET;jQuery   \n",
       "13           Angular;Vue.js                      Angular;Vue.js   \n",
       "\n",
       "                               WelcomeChange WorkWeekHrs YearsCode  \\\n",
       "7    Just as welcome now as I felt last year        39.0        17   \n",
       "9   Somewhat more welcome now than last year        36.0         8   \n",
       "10   Just as welcome now as I felt last year        40.0        10   \n",
       "11   Just as welcome now as I felt last year        40.0         7   \n",
       "13   Just as welcome now as I felt last year        40.0         5   \n",
       "\n",
       "   YearsCodePro  \n",
       "7            13  \n",
       "9             4  \n",
       "10            2  \n",
       "11            7  \n",
       "13            1  \n",
       "\n",
       "[5 rows x 61 columns]"
      ]
     },
     "execution_count": 7,
     "metadata": {},
     "output_type": "execute_result"
    }
   ],
   "source": [
    "# Considering only Professional developer\n",
    "formalEdu_salary = df_2020[df_2020['MainBranch'] == 'I am a developer by profession']#\n",
    "#drop all the rows with ConvertedComp,NEWEdImpt missing\n",
    "formalEdu_salary = formalEdu_salary.dropna(subset=['ConvertedComp','NEWEdImpt'])\n",
    "formalEdu_salary.head()"
   ]
  },
  {
   "cell_type": "code",
   "execution_count": 8,
   "metadata": {
    "execution": {
     "iopub.execute_input": "2021-01-24T12:35:40.749103Z",
     "iopub.status.busy": "2021-01-24T12:35:40.748115Z",
     "iopub.status.idle": "2021-01-24T12:35:40.765075Z",
     "shell.execute_reply": "2021-01-24T12:35:40.764424Z"
    },
    "papermill": {
     "duration": 0.065526,
     "end_time": "2021-01-24T12:35:40.765198",
     "exception": false,
     "start_time": "2021-01-24T12:35:40.699672",
     "status": "completed"
    },
    "tags": []
   },
   "outputs": [
    {
     "data": {
      "text/html": [
       "<div>\n",
       "<style scoped>\n",
       "    .dataframe tbody tr th:only-of-type {\n",
       "        vertical-align: middle;\n",
       "    }\n",
       "\n",
       "    .dataframe tbody tr th {\n",
       "        vertical-align: top;\n",
       "    }\n",
       "\n",
       "    .dataframe thead th {\n",
       "        text-align: right;\n",
       "    }\n",
       "</style>\n",
       "<table border=\"1\" class=\"dataframe\">\n",
       "  <thead>\n",
       "    <tr style=\"text-align: right;\">\n",
       "      <th></th>\n",
       "      <th>NEWEdImpt</th>\n",
       "      <th>ConvertedComp</th>\n",
       "    </tr>\n",
       "  </thead>\n",
       "  <tbody>\n",
       "    <tr>\n",
       "      <th>0</th>\n",
       "      <td>Critically important</td>\n",
       "      <td>105496.345912</td>\n",
       "    </tr>\n",
       "    <tr>\n",
       "      <th>1</th>\n",
       "      <td>Fairly important</td>\n",
       "      <td>96621.027680</td>\n",
       "    </tr>\n",
       "    <tr>\n",
       "      <th>2</th>\n",
       "      <td>Not at all important/not necessary</td>\n",
       "      <td>108257.050576</td>\n",
       "    </tr>\n",
       "    <tr>\n",
       "      <th>3</th>\n",
       "      <td>Somewhat important</td>\n",
       "      <td>104235.793187</td>\n",
       "    </tr>\n",
       "    <tr>\n",
       "      <th>4</th>\n",
       "      <td>Very important</td>\n",
       "      <td>103334.350343</td>\n",
       "    </tr>\n",
       "  </tbody>\n",
       "</table>\n",
       "</div>"
      ],
      "text/plain": [
       "                            NEWEdImpt  ConvertedComp\n",
       "0                Critically important  105496.345912\n",
       "1                    Fairly important   96621.027680\n",
       "2  Not at all important/not necessary  108257.050576\n",
       "3                  Somewhat important  104235.793187\n",
       "4                      Very important  103334.350343"
      ]
     },
     "execution_count": 8,
     "metadata": {},
     "output_type": "execute_result"
    }
   ],
   "source": [
    "# groupby is used to Group DataFrame using a Series of columns\n",
    "# finding mean of salary\n",
    "formalEdu_salary_2 = formalEdu_salary.groupby('NEWEdImpt', as_index=False)['ConvertedComp'].mean()\n",
    "formalEdu_salary_2.head()"
   ]
  },
  {
   "cell_type": "code",
   "execution_count": 9,
   "metadata": {
    "execution": {
     "iopub.execute_input": "2021-01-24T12:35:40.864332Z",
     "iopub.status.busy": "2021-01-24T12:35:40.863540Z",
     "iopub.status.idle": "2021-01-24T12:35:41.027303Z",
     "shell.execute_reply": "2021-01-24T12:35:41.026551Z"
    },
    "papermill": {
     "duration": 0.22184,
     "end_time": "2021-01-24T12:35:41.027425",
     "exception": false,
     "start_time": "2021-01-24T12:35:40.805585",
     "status": "completed"
    },
    "tags": []
   },
   "outputs": [
    {
     "data": {
      "image/png": "[encoded data removed]",
      "text/plain": [
       "<Figure size 1152x576 with 1 Axes>"
      ]
     },
     "metadata": {
      "needs_background": "light"
     },
     "output_type": "display_data"
    }
   ],
   "source": [
    "plt.figure(figsize=(16, 8))\n",
    "sns.barplot(data=formalEdu_salary_2, x='NEWEdImpt', y='ConvertedComp')\n",
    "plt.title('Importance of Formal Education comparing to Salary acc to Professional Developers')\n",
    "plt.ylabel('Total Salary (USD / year)')\n",
    "plt.xlabel('Formal Education Importance')\n",
    "plt.show()"
   ]
  },
  {
   "cell_type": "markdown",
   "metadata": {
    "papermill": {
     "duration": 0.040939,
     "end_time": "2021-01-24T12:35:41.111144",
     "exception": false,
     "start_time": "2021-01-24T12:35:41.070205",
     "status": "completed"
    },
    "tags": []
   },
   "source": [
    "## Evaluation\n",
    "\n",
    "This means that Professional developers with different opinion about formal education earn pretty much the same.  \n",
    "Professional developers who think Formal education is not needed earn comparatively higher then professional developers feel that formal education is important, but they are only 16%.  \n",
    "Remaining 85% of the respondents that are professional developers feel that formal education is at least somewhat important and earn comparatively same. \n",
    "\n",
    "This doesnt mean people cannot become professional developers and earn competitive salary, certainly is possible but chances are just 16%\n",
    "\n",
    "This plot was to see if there is a huge difference in salary of Professional developer with and without formal education. \n",
    "\n",
    "Since there is no huge difference, going with majority I conclude that to become Professional developer and earn competitive salary it is better to complete formal education."
   ]
  },
  {
   "cell_type": "markdown",
   "metadata": {
    "papermill": {
     "duration": 0.041172,
     "end_time": "2021-01-24T12:35:41.193683",
     "exception": false,
     "start_time": "2021-01-24T12:35:41.152511",
     "status": "completed"
    },
    "tags": []
   },
   "source": [
    "# 2. As a Software engineer, Is it better to work in India or move to Western countries? <a name=\"Question2\"></a>"
   ]
  },
  {
   "cell_type": "markdown",
   "metadata": {
    "papermill": {
     "duration": 0.042024,
     "end_time": "2021-01-24T12:35:41.278068",
     "exception": false,
     "start_time": "2021-01-24T12:35:41.236044",
     "status": "completed"
    },
    "tags": []
   },
   "source": [
    "To make this analysis of this question, required column are present only in 2017 and 2019 dataset, so I am considering 2017,2019 dataset for this question. \n",
    "\n",
    "Useful Column for this analysis from 2017 dataset\n",
    "* Country: Country they are living\n",
    "* YearsCodedJob: Years they are coding\n",
    "* EmploymentStatus: Their employment status\n",
    "* Salary: Their Salary\n",
    "* JobSatisfaction & CareerSatisfaction: Are their satisfy their job and career\n",
    "\n",
    "Useful Column for this analysis from 2019 dataset\n",
    "* Country: Country they are living\n",
    "* YearsCode: Years they are coding\n",
    "* Employment: Their employment status\n",
    "* ConvertedComp: Their Salary\n",
    "\n",
    "I am considering only employed full-time professional developer."
   ]
  },
  {
   "cell_type": "code",
   "execution_count": 10,
   "metadata": {
    "execution": {
     "iopub.execute_input": "2021-01-24T12:35:41.388627Z",
     "iopub.status.busy": "2021-01-24T12:35:41.373445Z",
     "iopub.status.idle": "2021-01-24T12:35:41.530982Z",
     "shell.execute_reply": "2021-01-24T12:35:41.529821Z"
    },
    "papermill": {
     "duration": 0.210938,
     "end_time": "2021-01-24T12:35:41.531123",
     "exception": false,
     "start_time": "2021-01-24T12:35:41.320185",
     "status": "completed"
    },
    "tags": []
   },
   "outputs": [
    {
     "data": {
      "image/png": "[encoded data removed]",
      "text/plain": [
       "<Figure size 432x288 with 1 Axes>"
      ]
     },
     "metadata": {
      "needs_background": "light"
     },
     "output_type": "display_data"
    }
   ],
   "source": [
    "# plot using function plot_bar_chart\n",
    "plot_bar_chart(df_2017, \"Professional\", \"What kind of developer are you?\")"
   ]
  },
  {
   "cell_type": "markdown",
   "metadata": {
    "papermill": {
     "duration": 0.043006,
     "end_time": "2021-01-24T12:35:41.618419",
     "exception": false,
     "start_time": "2021-01-24T12:35:41.575413",
     "status": "completed"
    },
    "tags": []
   },
   "source": [
    "For categorical variables \"Country\", I seperate them into three sectors: \n",
    "* western, \n",
    "* Indian\n",
    "* other.\n",
    "\n",
    "The following code define the lists of related countries and create a new column to identify whether that person lives in the west or in India."
   ]
  },
  {
   "cell_type": "code",
   "execution_count": 11,
   "metadata": {
    "execution": {
     "iopub.execute_input": "2021-01-24T12:35:41.715559Z",
     "iopub.status.busy": "2021-01-24T12:35:41.714888Z",
     "iopub.status.idle": "2021-01-24T12:35:41.720420Z",
     "shell.execute_reply": "2021-01-24T12:35:41.719498Z"
    },
    "papermill": {
     "duration": 0.057908,
     "end_time": "2021-01-24T12:35:41.720598",
     "exception": false,
     "start_time": "2021-01-24T12:35:41.662690",
     "status": "completed"
    },
    "tags": []
   },
   "outputs": [],
   "source": [
    "def handling_country(df):\n",
    "    '''\n",
    "    \n",
    "    Return a dataframe with country seperate into west and east\n",
    "    \n",
    "    Parameters:\n",
    "    df: a raw data dataframe\n",
    "    \n",
    "    Returns:\n",
    "    df: a dataframe with a new column west_or_india\n",
    "    \n",
    "    '''\n",
    "    # For Categorical variables \"Country\", we seperate them into \n",
    "    # three sessions: western, indian and other\n",
    "    # The following lists define the countries to western and indian\n",
    "    western = ['United States', 'Liechtenstein', 'Switzerland', \n",
    "           'Iceland', 'Norway', 'Israel', 'Denmark', \n",
    "           'Ireland', 'Canada', 'United Kingdom', 'Germany', \n",
    "           'Netherlands', 'Sweden', 'Luxembourg', 'Austria', \n",
    "           'Finland', 'France', 'Belgium', 'Spain', 'Italy',\n",
    "           'Poland']\n",
    "\n",
    "    indian = ['India']\n",
    "    \n",
    "    #Add a new catagory seperating to western and indian\n",
    "    df['west_or_india'] = df['Country'].apply(lambda x: 'western' if x in western else ('indian' if x in indian else 'other'))\n",
    "    \n",
    "    return df"
   ]
  },
  {
   "cell_type": "code",
   "execution_count": 12,
   "metadata": {
    "execution": {
     "iopub.execute_input": "2021-01-24T12:35:41.815575Z",
     "iopub.status.busy": "2021-01-24T12:35:41.814876Z",
     "iopub.status.idle": "2021-01-24T12:35:41.843485Z",
     "shell.execute_reply": "2021-01-24T12:35:41.844011Z"
    },
    "papermill": {
     "duration": 0.076428,
     "end_time": "2021-01-24T12:35:41.844176",
     "exception": false,
     "start_time": "2021-01-24T12:35:41.767748",
     "status": "completed"
    },
    "tags": []
   },
   "outputs": [],
   "source": [
    "# create a new column to identify whether that person lives in the west or in India.\n",
    "df_2017 = handling_country(df_2017)"
   ]
  },
  {
   "cell_type": "code",
   "execution_count": 13,
   "metadata": {
    "execution": {
     "iopub.execute_input": "2021-01-24T12:35:41.937679Z",
     "iopub.status.busy": "2021-01-24T12:35:41.936904Z",
     "iopub.status.idle": "2021-01-24T12:35:42.231142Z",
     "shell.execute_reply": "2021-01-24T12:35:42.230533Z"
    },
    "papermill": {
     "duration": 0.343908,
     "end_time": "2021-01-24T12:35:42.231265",
     "exception": false,
     "start_time": "2021-01-24T12:35:41.887357",
     "status": "completed"
    },
    "tags": []
   },
   "outputs": [
    {
     "data": {
      "text/html": [
       "<div>\n",
       "<style scoped>\n",
       "    .dataframe tbody tr th:only-of-type {\n",
       "        vertical-align: middle;\n",
       "    }\n",
       "\n",
       "    .dataframe tbody tr th {\n",
       "        vertical-align: top;\n",
       "    }\n",
       "\n",
       "    .dataframe thead th {\n",
       "        text-align: right;\n",
       "    }\n",
       "</style>\n",
       "<table border=\"1\" class=\"dataframe\">\n",
       "  <thead>\n",
       "    <tr style=\"text-align: right;\">\n",
       "      <th></th>\n",
       "      <th>Country</th>\n",
       "      <th>YearsCodedJob</th>\n",
       "      <th>EmploymentStatus</th>\n",
       "      <th>CareerSatisfaction</th>\n",
       "      <th>JobSatisfaction</th>\n",
       "      <th>JobSeekingStatus</th>\n",
       "      <th>HoursPerWeek</th>\n",
       "      <th>Salary</th>\n",
       "      <th>west_or_india</th>\n",
       "      <th>Overpaid</th>\n",
       "    </tr>\n",
       "  </thead>\n",
       "  <tbody>\n",
       "    <tr>\n",
       "      <th>2</th>\n",
       "      <td>United Kingdom</td>\n",
       "      <td>20 or more years</td>\n",
       "      <td>Employed full-time</td>\n",
       "      <td>8.0</td>\n",
       "      <td>9.0</td>\n",
       "      <td>NaN</td>\n",
       "      <td>NaN</td>\n",
       "      <td>113750.000000</td>\n",
       "      <td>western</td>\n",
       "      <td>Neither underpaid nor overpaid</td>\n",
       "    </tr>\n",
       "    <tr>\n",
       "      <th>7</th>\n",
       "      <td>Poland</td>\n",
       "      <td>7 to 8 years</td>\n",
       "      <td>Employed full-time</td>\n",
       "      <td>7.0</td>\n",
       "      <td>7.0</td>\n",
       "      <td>I'm not actively looking, but I am open to new...</td>\n",
       "      <td>1.0</td>\n",
       "      <td>NaN</td>\n",
       "      <td>western</td>\n",
       "      <td>NaN</td>\n",
       "    </tr>\n",
       "    <tr>\n",
       "      <th>8</th>\n",
       "      <td>Colombia</td>\n",
       "      <td>7 to 8 years</td>\n",
       "      <td>Employed full-time</td>\n",
       "      <td>6.0</td>\n",
       "      <td>6.0</td>\n",
       "      <td>I am not interested in new job opportunities</td>\n",
       "      <td>2.0</td>\n",
       "      <td>NaN</td>\n",
       "      <td>other</td>\n",
       "      <td>Neither underpaid nor overpaid</td>\n",
       "    </tr>\n",
       "    <tr>\n",
       "      <th>13</th>\n",
       "      <td>Germany</td>\n",
       "      <td>15 to 16 years</td>\n",
       "      <td>Employed full-time</td>\n",
       "      <td>8.0</td>\n",
       "      <td>6.0</td>\n",
       "      <td>I am actively looking for a job</td>\n",
       "      <td>3.0</td>\n",
       "      <td>NaN</td>\n",
       "      <td>western</td>\n",
       "      <td>NaN</td>\n",
       "    </tr>\n",
       "    <tr>\n",
       "      <th>14</th>\n",
       "      <td>United Kingdom</td>\n",
       "      <td>20 or more years</td>\n",
       "      <td>Employed full-time</td>\n",
       "      <td>8.0</td>\n",
       "      <td>8.0</td>\n",
       "      <td>NaN</td>\n",
       "      <td>NaN</td>\n",
       "      <td>100000.000000</td>\n",
       "      <td>western</td>\n",
       "      <td>Somewhat underpaid</td>\n",
       "    </tr>\n",
       "    <tr>\n",
       "      <th>...</th>\n",
       "      <td>...</td>\n",
       "      <td>...</td>\n",
       "      <td>...</td>\n",
       "      <td>...</td>\n",
       "      <td>...</td>\n",
       "      <td>...</td>\n",
       "      <td>...</td>\n",
       "      <td>...</td>\n",
       "      <td>...</td>\n",
       "      <td>...</td>\n",
       "    </tr>\n",
       "    <tr>\n",
       "      <th>51382</th>\n",
       "      <td>France</td>\n",
       "      <td>1 to 2 years</td>\n",
       "      <td>Employed full-time</td>\n",
       "      <td>9.0</td>\n",
       "      <td>5.0</td>\n",
       "      <td>I am actively looking for a job</td>\n",
       "      <td>0.0</td>\n",
       "      <td>32258.064516</td>\n",
       "      <td>western</td>\n",
       "      <td>Somewhat underpaid</td>\n",
       "    </tr>\n",
       "    <tr>\n",
       "      <th>51384</th>\n",
       "      <td>United States</td>\n",
       "      <td>8 to 9 years</td>\n",
       "      <td>Employed full-time</td>\n",
       "      <td>7.0</td>\n",
       "      <td>5.0</td>\n",
       "      <td>I'm not actively looking, but I am open to new...</td>\n",
       "      <td>0.0</td>\n",
       "      <td>NaN</td>\n",
       "      <td>western</td>\n",
       "      <td>NaN</td>\n",
       "    </tr>\n",
       "    <tr>\n",
       "      <th>51386</th>\n",
       "      <td>Romania</td>\n",
       "      <td>3 to 4 years</td>\n",
       "      <td>Employed full-time</td>\n",
       "      <td>7.0</td>\n",
       "      <td>4.0</td>\n",
       "      <td>I'm not actively looking, but I am open to new...</td>\n",
       "      <td>2.0</td>\n",
       "      <td>NaN</td>\n",
       "      <td>other</td>\n",
       "      <td>NaN</td>\n",
       "    </tr>\n",
       "    <tr>\n",
       "      <th>51387</th>\n",
       "      <td>United States</td>\n",
       "      <td>1 to 2 years</td>\n",
       "      <td>Employed full-time</td>\n",
       "      <td>7.0</td>\n",
       "      <td>3.0</td>\n",
       "      <td>I am actively looking for a job</td>\n",
       "      <td>5.0</td>\n",
       "      <td>58000.000000</td>\n",
       "      <td>western</td>\n",
       "      <td>Greatly underpaid</td>\n",
       "    </tr>\n",
       "    <tr>\n",
       "      <th>51390</th>\n",
       "      <td>United States</td>\n",
       "      <td>3 to 4 years</td>\n",
       "      <td>Employed full-time</td>\n",
       "      <td>6.0</td>\n",
       "      <td>7.0</td>\n",
       "      <td>I'm not actively looking, but I am open to new...</td>\n",
       "      <td>1.0</td>\n",
       "      <td>40000.000000</td>\n",
       "      <td>western</td>\n",
       "      <td>Greatly underpaid</td>\n",
       "    </tr>\n",
       "  </tbody>\n",
       "</table>\n",
       "<p>21392 rows × 10 columns</p>\n",
       "</div>"
      ],
      "text/plain": [
       "              Country     YearsCodedJob    EmploymentStatus  \\\n",
       "2      United Kingdom  20 or more years  Employed full-time   \n",
       "7              Poland      7 to 8 years  Employed full-time   \n",
       "8            Colombia      7 to 8 years  Employed full-time   \n",
       "13            Germany    15 to 16 years  Employed full-time   \n",
       "14     United Kingdom  20 or more years  Employed full-time   \n",
       "...               ...               ...                 ...   \n",
       "51382          France      1 to 2 years  Employed full-time   \n",
       "51384   United States      8 to 9 years  Employed full-time   \n",
       "51386         Romania      3 to 4 years  Employed full-time   \n",
       "51387   United States      1 to 2 years  Employed full-time   \n",
       "51390   United States      3 to 4 years  Employed full-time   \n",
       "\n",
       "       CareerSatisfaction  JobSatisfaction  \\\n",
       "2                     8.0              9.0   \n",
       "7                     7.0              7.0   \n",
       "8                     6.0              6.0   \n",
       "13                    8.0              6.0   \n",
       "14                    8.0              8.0   \n",
       "...                   ...              ...   \n",
       "51382                 9.0              5.0   \n",
       "51384                 7.0              5.0   \n",
       "51386                 7.0              4.0   \n",
       "51387                 7.0              3.0   \n",
       "51390                 6.0              7.0   \n",
       "\n",
       "                                        JobSeekingStatus  HoursPerWeek  \\\n",
       "2                                                    NaN           NaN   \n",
       "7      I'm not actively looking, but I am open to new...           1.0   \n",
       "8           I am not interested in new job opportunities           2.0   \n",
       "13                       I am actively looking for a job           3.0   \n",
       "14                                                   NaN           NaN   \n",
       "...                                                  ...           ...   \n",
       "51382                    I am actively looking for a job           0.0   \n",
       "51384  I'm not actively looking, but I am open to new...           0.0   \n",
       "51386  I'm not actively looking, but I am open to new...           2.0   \n",
       "51387                    I am actively looking for a job           5.0   \n",
       "51390  I'm not actively looking, but I am open to new...           1.0   \n",
       "\n",
       "              Salary west_or_india                        Overpaid  \n",
       "2      113750.000000       western  Neither underpaid nor overpaid  \n",
       "7                NaN       western                             NaN  \n",
       "8                NaN         other  Neither underpaid nor overpaid  \n",
       "13               NaN       western                             NaN  \n",
       "14     100000.000000       western              Somewhat underpaid  \n",
       "...              ...           ...                             ...  \n",
       "51382   32258.064516       western              Somewhat underpaid  \n",
       "51384            NaN       western                             NaN  \n",
       "51386            NaN         other                             NaN  \n",
       "51387   58000.000000       western               Greatly underpaid  \n",
       "51390   40000.000000       western               Greatly underpaid  \n",
       "\n",
       "[21392 rows x 10 columns]"
      ]
     },
     "execution_count": 13,
     "metadata": {},
     "output_type": "execute_result"
    }
   ],
   "source": [
    "useful_columns_2017 = ['Country', 'YearsCodedJob', 'EmploymentStatus', 'CareerSatisfaction', 'JobSatisfaction', 'JobSeekingStatus', 'HoursPerWeek', 'Salary', 'west_or_india', 'Overpaid']\n",
    "\n",
    "# query is used to Query the columns of a DataFrame with a boolean expression\n",
    "useful_df_2017 = pd.DataFrame(df_2017.query(\"Professional == 'Professional developer' and (Gender == 'Male' or Gender == 'Female') and EmploymentStatus == 'Employed full-time'\"))[useful_columns_2017]\n",
    "\n",
    "useful_df_2017"
   ]
  },
  {
   "cell_type": "code",
   "execution_count": 14,
   "metadata": {
    "execution": {
     "iopub.execute_input": "2021-01-24T12:35:42.328723Z",
     "iopub.status.busy": "2021-01-24T12:35:42.328008Z",
     "iopub.status.idle": "2021-01-24T12:35:42.352351Z",
     "shell.execute_reply": "2021-01-24T12:35:42.351684Z"
    },
    "papermill": {
     "duration": 0.07676,
     "end_time": "2021-01-24T12:35:42.352493",
     "exception": false,
     "start_time": "2021-01-24T12:35:42.275733",
     "status": "completed"
    },
    "tags": []
   },
   "outputs": [
    {
     "data": {
      "text/html": [
       "<div>\n",
       "<style scoped>\n",
       "    .dataframe tbody tr th:only-of-type {\n",
       "        vertical-align: middle;\n",
       "    }\n",
       "\n",
       "    .dataframe tbody tr th {\n",
       "        vertical-align: top;\n",
       "    }\n",
       "\n",
       "    .dataframe thead th {\n",
       "        text-align: right;\n",
       "    }\n",
       "</style>\n",
       "<table border=\"1\" class=\"dataframe\">\n",
       "  <thead>\n",
       "    <tr style=\"text-align: right;\">\n",
       "      <th></th>\n",
       "      <th></th>\n",
       "      <th>CareerSatisfaction</th>\n",
       "      <th>JobSatisfaction</th>\n",
       "      <th>HoursPerWeek</th>\n",
       "      <th>Salary</th>\n",
       "    </tr>\n",
       "    <tr>\n",
       "      <th>west_or_india</th>\n",
       "      <th>YearsCodedJob</th>\n",
       "      <th></th>\n",
       "      <th></th>\n",
       "      <th></th>\n",
       "      <th></th>\n",
       "    </tr>\n",
       "  </thead>\n",
       "  <tbody>\n",
       "    <tr>\n",
       "      <th rowspan=\"5\" valign=\"top\">indian</th>\n",
       "      <th>1 to 2 years</th>\n",
       "      <td>6.582656</td>\n",
       "      <td>5.848238</td>\n",
       "      <td>5.925581</td>\n",
       "      <td>5738.765281</td>\n",
       "    </tr>\n",
       "    <tr>\n",
       "      <th>10 to 11 years</th>\n",
       "      <td>7.520000</td>\n",
       "      <td>6.280000</td>\n",
       "      <td>2.833333</td>\n",
       "      <td>22069.079430</td>\n",
       "    </tr>\n",
       "    <tr>\n",
       "      <th>11 to 12 years</th>\n",
       "      <td>7.166667</td>\n",
       "      <td>6.222222</td>\n",
       "      <td>5.125000</td>\n",
       "      <td>26798.928204</td>\n",
       "    </tr>\n",
       "    <tr>\n",
       "      <th>12 to 13 years</th>\n",
       "      <td>7.333333</td>\n",
       "      <td>5.833333</td>\n",
       "      <td>4.222222</td>\n",
       "      <td>36558.508295</td>\n",
       "    </tr>\n",
       "    <tr>\n",
       "      <th>13 to 14 years</th>\n",
       "      <td>7.333333</td>\n",
       "      <td>7.666667</td>\n",
       "      <td>40.000000</td>\n",
       "      <td>35952.870357</td>\n",
       "    </tr>\n",
       "    <tr>\n",
       "      <th>...</th>\n",
       "      <th>...</th>\n",
       "      <td>...</td>\n",
       "      <td>...</td>\n",
       "      <td>...</td>\n",
       "      <td>...</td>\n",
       "    </tr>\n",
       "    <tr>\n",
       "      <th rowspan=\"5\" valign=\"top\">western</th>\n",
       "      <th>6 to 7 years</th>\n",
       "      <td>7.644114</td>\n",
       "      <td>7.177267</td>\n",
       "      <td>2.211039</td>\n",
       "      <td>69648.807261</td>\n",
       "    </tr>\n",
       "    <tr>\n",
       "      <th>7 to 8 years</th>\n",
       "      <td>7.532209</td>\n",
       "      <td>7.179724</td>\n",
       "      <td>2.138060</td>\n",
       "      <td>70236.572056</td>\n",
       "    </tr>\n",
       "    <tr>\n",
       "      <th>8 to 9 years</th>\n",
       "      <td>7.558304</td>\n",
       "      <td>7.072438</td>\n",
       "      <td>2.096491</td>\n",
       "      <td>76314.628263</td>\n",
       "    </tr>\n",
       "    <tr>\n",
       "      <th>9 to 10 years</th>\n",
       "      <td>7.476000</td>\n",
       "      <td>6.988000</td>\n",
       "      <td>2.148026</td>\n",
       "      <td>74142.281505</td>\n",
       "    </tr>\n",
       "    <tr>\n",
       "      <th>Less than a year</th>\n",
       "      <td>7.811526</td>\n",
       "      <td>7.648438</td>\n",
       "      <td>1.818627</td>\n",
       "      <td>47639.855006</td>\n",
       "    </tr>\n",
       "  </tbody>\n",
       "</table>\n",
       "<p>62 rows × 4 columns</p>\n",
       "</div>"
      ],
      "text/plain": [
       "                                CareerSatisfaction  JobSatisfaction  \\\n",
       "west_or_india YearsCodedJob                                           \n",
       "indian        1 to 2 years                6.582656         5.848238   \n",
       "              10 to 11 years              7.520000         6.280000   \n",
       "              11 to 12 years              7.166667         6.222222   \n",
       "              12 to 13 years              7.333333         5.833333   \n",
       "              13 to 14 years              7.333333         7.666667   \n",
       "...                                            ...              ...   \n",
       "western       6 to 7 years                7.644114         7.177267   \n",
       "              7 to 8 years                7.532209         7.179724   \n",
       "              8 to 9 years                7.558304         7.072438   \n",
       "              9 to 10 years               7.476000         6.988000   \n",
       "              Less than a year            7.811526         7.648438   \n",
       "\n",
       "                                HoursPerWeek        Salary  \n",
       "west_or_india YearsCodedJob                                 \n",
       "indian        1 to 2 years          5.925581   5738.765281  \n",
       "              10 to 11 years        2.833333  22069.079430  \n",
       "              11 to 12 years        5.125000  26798.928204  \n",
       "              12 to 13 years        4.222222  36558.508295  \n",
       "              13 to 14 years       40.000000  35952.870357  \n",
       "...                                      ...           ...  \n",
       "western       6 to 7 years          2.211039  69648.807261  \n",
       "              7 to 8 years          2.138060  70236.572056  \n",
       "              8 to 9 years          2.096491  76314.628263  \n",
       "              9 to 10 years         2.148026  74142.281505  \n",
       "              Less than a year      1.818627  47639.855006  \n",
       "\n",
       "[62 rows x 4 columns]"
      ]
     },
     "execution_count": 14,
     "metadata": {},
     "output_type": "execute_result"
    }
   ],
   "source": [
    "# group the column based on new created column west_or_india and yearscoded\n",
    "west_or_india_2017 = useful_df_2017.groupby(['west_or_india','YearsCodedJob']).mean()\n",
    "west_or_india_2017"
   ]
  },
  {
   "cell_type": "code",
   "execution_count": 15,
   "metadata": {
    "execution": {
     "iopub.execute_input": "2021-01-24T12:35:42.455784Z",
     "iopub.status.busy": "2021-01-24T12:35:42.454627Z",
     "iopub.status.idle": "2021-01-24T12:35:42.457927Z",
     "shell.execute_reply": "2021-01-24T12:35:42.457343Z"
    },
    "papermill": {
     "duration": 0.060624,
     "end_time": "2021-01-24T12:35:42.458072",
     "exception": false,
     "start_time": "2021-01-24T12:35:42.397448",
     "status": "completed"
    },
    "tags": []
   },
   "outputs": [],
   "source": [
    "def handling_yearscodedjob(df):\n",
    "    \"\"\"\n",
    "    \n",
    "    Convert the working year to integer\n",
    "    \n",
    "    Parameters:\n",
    "    df: a dataframe that will be converted\n",
    "    \n",
    "    Returns:\n",
    "    dataframe: a converted dataframe with YearsCodedJob column becomes numeric so that we can measure\n",
    "    \n",
    "    \"\"\"\n",
    "    year_map_2017 = {'1 to 2 years' : 1, \n",
    "                '10 to 11 years' : 10, \n",
    "                '11 to 12 years' : 11, \n",
    "                '12 to 13 years' : 12,\n",
    "                '13 to 14 years' : 13, \n",
    "                '14 to 15 years' : 14, \n",
    "                '15 to 16 years' : 15, \n",
    "                '16 to 17 years' : 16,\n",
    "                '17 to 18 years' : 17, \n",
    "                '18 to 19 years' : 18, \n",
    "                '19 to 20 years' : 19, \n",
    "                '2 to 3 years' : 2,\n",
    "                '20 or more years' : 20, \n",
    "                '3 to 4 years' : 3, \n",
    "                '4 to 5 years' : 4, \n",
    "                '5 to 6 years' : 5, \n",
    "                '6 to 7 years' : 6, \n",
    "                '7 to 8 years' : 7, \n",
    "                '8 to 9 years' : 8, \n",
    "                '9 to 10 years' : 9, \n",
    "                'Less than a year' : 0}\n",
    "    \n",
    "    df_graph = df.reset_index()\n",
    "    df_graph['YearsCodedJob'] = df_graph['YearsCodedJob'].apply(lambda x: year_map_2017[x])\n",
    "    df_graph['YearsCodedJob'] = pd.to_numeric(df_graph['YearsCodedJob'])\n",
    "    \n",
    "    return df_graph"
   ]
  },
  {
   "cell_type": "code",
   "execution_count": 16,
   "metadata": {
    "execution": {
     "iopub.execute_input": "2021-01-24T12:35:42.551128Z",
     "iopub.status.busy": "2021-01-24T12:35:42.550403Z",
     "iopub.status.idle": "2021-01-24T12:35:42.570170Z",
     "shell.execute_reply": "2021-01-24T12:35:42.570681Z"
    },
    "papermill": {
     "duration": 0.067853,
     "end_time": "2021-01-24T12:35:42.570848",
     "exception": false,
     "start_time": "2021-01-24T12:35:42.502995",
     "status": "completed"
    },
    "tags": []
   },
   "outputs": [
    {
     "data": {
      "text/html": [
       "<div>\n",
       "<style scoped>\n",
       "    .dataframe tbody tr th:only-of-type {\n",
       "        vertical-align: middle;\n",
       "    }\n",
       "\n",
       "    .dataframe tbody tr th {\n",
       "        vertical-align: top;\n",
       "    }\n",
       "\n",
       "    .dataframe thead th {\n",
       "        text-align: right;\n",
       "    }\n",
       "</style>\n",
       "<table border=\"1\" class=\"dataframe\">\n",
       "  <thead>\n",
       "    <tr style=\"text-align: right;\">\n",
       "      <th></th>\n",
       "      <th>west_or_india</th>\n",
       "      <th>YearsCodedJob</th>\n",
       "      <th>CareerSatisfaction</th>\n",
       "      <th>JobSatisfaction</th>\n",
       "      <th>HoursPerWeek</th>\n",
       "      <th>Salary</th>\n",
       "    </tr>\n",
       "  </thead>\n",
       "  <tbody>\n",
       "    <tr>\n",
       "      <th>61</th>\n",
       "      <td>western</td>\n",
       "      <td>0</td>\n",
       "      <td>7.811526</td>\n",
       "      <td>7.648438</td>\n",
       "      <td>1.818627</td>\n",
       "      <td>47639.855006</td>\n",
       "    </tr>\n",
       "    <tr>\n",
       "      <th>40</th>\n",
       "      <td>other</td>\n",
       "      <td>0</td>\n",
       "      <td>7.102362</td>\n",
       "      <td>6.815686</td>\n",
       "      <td>3.152542</td>\n",
       "      <td>12798.906854</td>\n",
       "    </tr>\n",
       "    <tr>\n",
       "      <th>19</th>\n",
       "      <td>indian</td>\n",
       "      <td>0</td>\n",
       "      <td>6.611111</td>\n",
       "      <td>6.033333</td>\n",
       "      <td>5.711340</td>\n",
       "      <td>7201.297612</td>\n",
       "    </tr>\n",
       "    <tr>\n",
       "      <th>41</th>\n",
       "      <td>western</td>\n",
       "      <td>1</td>\n",
       "      <td>7.585460</td>\n",
       "      <td>7.152713</td>\n",
       "      <td>2.216606</td>\n",
       "      <td>48332.625897</td>\n",
       "    </tr>\n",
       "    <tr>\n",
       "      <th>20</th>\n",
       "      <td>other</td>\n",
       "      <td>1</td>\n",
       "      <td>7.453355</td>\n",
       "      <td>6.765189</td>\n",
       "      <td>3.838323</td>\n",
       "      <td>15930.110008</td>\n",
       "    </tr>\n",
       "    <tr>\n",
       "      <th>...</th>\n",
       "      <td>...</td>\n",
       "      <td>...</td>\n",
       "      <td>...</td>\n",
       "      <td>...</td>\n",
       "      <td>...</td>\n",
       "      <td>...</td>\n",
       "    </tr>\n",
       "    <tr>\n",
       "      <th>9</th>\n",
       "      <td>indian</td>\n",
       "      <td>19</td>\n",
       "      <td>7.400000</td>\n",
       "      <td>7.400000</td>\n",
       "      <td>0.000000</td>\n",
       "      <td>16150.345030</td>\n",
       "    </tr>\n",
       "    <tr>\n",
       "      <th>30</th>\n",
       "      <td>other</td>\n",
       "      <td>19</td>\n",
       "      <td>7.472222</td>\n",
       "      <td>6.916667</td>\n",
       "      <td>3.526316</td>\n",
       "      <td>47206.186787</td>\n",
       "    </tr>\n",
       "    <tr>\n",
       "      <th>53</th>\n",
       "      <td>western</td>\n",
       "      <td>20</td>\n",
       "      <td>7.851955</td>\n",
       "      <td>7.332635</td>\n",
       "      <td>2.285470</td>\n",
       "      <td>103337.295829</td>\n",
       "    </tr>\n",
       "    <tr>\n",
       "      <th>11</th>\n",
       "      <td>indian</td>\n",
       "      <td>20</td>\n",
       "      <td>7.500000</td>\n",
       "      <td>4.500000</td>\n",
       "      <td>0.000000</td>\n",
       "      <td>3171.340479</td>\n",
       "    </tr>\n",
       "    <tr>\n",
       "      <th>32</th>\n",
       "      <td>other</td>\n",
       "      <td>20</td>\n",
       "      <td>7.742268</td>\n",
       "      <td>7.316062</td>\n",
       "      <td>3.325000</td>\n",
       "      <td>63518.438812</td>\n",
       "    </tr>\n",
       "  </tbody>\n",
       "</table>\n",
       "<p>62 rows × 6 columns</p>\n",
       "</div>"
      ],
      "text/plain": [
       "   west_or_india  YearsCodedJob  CareerSatisfaction  JobSatisfaction  \\\n",
       "61       western              0            7.811526         7.648438   \n",
       "40         other              0            7.102362         6.815686   \n",
       "19        indian              0            6.611111         6.033333   \n",
       "41       western              1            7.585460         7.152713   \n",
       "20         other              1            7.453355         6.765189   \n",
       "..           ...            ...                 ...              ...   \n",
       "9         indian             19            7.400000         7.400000   \n",
       "30         other             19            7.472222         6.916667   \n",
       "53       western             20            7.851955         7.332635   \n",
       "11        indian             20            7.500000         4.500000   \n",
       "32         other             20            7.742268         7.316062   \n",
       "\n",
       "    HoursPerWeek         Salary  \n",
       "61      1.818627   47639.855006  \n",
       "40      3.152542   12798.906854  \n",
       "19      5.711340    7201.297612  \n",
       "41      2.216606   48332.625897  \n",
       "20      3.838323   15930.110008  \n",
       "..           ...            ...  \n",
       "9       0.000000   16150.345030  \n",
       "30      3.526316   47206.186787  \n",
       "53      2.285470  103337.295829  \n",
       "11      0.000000    3171.340479  \n",
       "32      3.325000   63518.438812  \n",
       "\n",
       "[62 rows x 6 columns]"
      ]
     },
     "execution_count": 16,
     "metadata": {},
     "output_type": "execute_result"
    }
   ],
   "source": [
    "#Convert the working year to integer by mapping\n",
    "west_or_india_2017_comparison = handling_yearscodedjob(west_or_india_2017)\n",
    "# sort based on years of coding\n",
    "west_or_india_2017_comparison = west_or_india_2017_comparison.sort_values(by='YearsCodedJob')\n",
    "west_or_india_2017_comparison"
   ]
  },
  {
   "cell_type": "code",
   "execution_count": 17,
   "metadata": {
    "execution": {
     "iopub.execute_input": "2021-01-24T12:35:42.668558Z",
     "iopub.status.busy": "2021-01-24T12:35:42.667826Z",
     "iopub.status.idle": "2021-01-24T12:35:42.672212Z",
     "shell.execute_reply": "2021-01-24T12:35:42.672771Z"
    },
    "papermill": {
     "duration": 0.054215,
     "end_time": "2021-01-24T12:35:42.672931",
     "exception": false,
     "start_time": "2021-01-24T12:35:42.618716",
     "status": "completed"
    },
    "tags": []
   },
   "outputs": [],
   "source": [
    "# index are set based on YearsCodedJob value\n",
    "west_or_india_2017_comparison.set_index('YearsCodedJob', inplace=True)\n"
   ]
  },
  {
   "cell_type": "code",
   "execution_count": 18,
   "metadata": {
    "execution": {
     "iopub.execute_input": "2021-01-24T12:35:42.768186Z",
     "iopub.status.busy": "2021-01-24T12:35:42.767471Z",
     "iopub.status.idle": "2021-01-24T12:35:42.813562Z",
     "shell.execute_reply": "2021-01-24T12:35:42.814101Z"
    },
    "papermill": {
     "duration": 0.095328,
     "end_time": "2021-01-24T12:35:42.814269",
     "exception": false,
     "start_time": "2021-01-24T12:35:42.718941",
     "status": "completed"
    },
    "tags": []
   },
   "outputs": [],
   "source": [
    "# create a new column to identify whether that person lives in the west or in India.\n",
    "df_2019 = handling_country(df_2019)"
   ]
  },
  {
   "cell_type": "code",
   "execution_count": 19,
   "metadata": {
    "execution": {
     "iopub.execute_input": "2021-01-24T12:35:42.912469Z",
     "iopub.status.busy": "2021-01-24T12:35:42.911766Z",
     "iopub.status.idle": "2021-01-24T12:35:43.201758Z",
     "shell.execute_reply": "2021-01-24T12:35:43.202299Z"
    },
    "papermill": {
     "duration": 0.342365,
     "end_time": "2021-01-24T12:35:43.202456",
     "exception": false,
     "start_time": "2021-01-24T12:35:42.860091",
     "status": "completed"
    },
    "tags": []
   },
   "outputs": [
    {
     "data": {
      "text/html": [
       "<div>\n",
       "<style scoped>\n",
       "    .dataframe tbody tr th:only-of-type {\n",
       "        vertical-align: middle;\n",
       "    }\n",
       "\n",
       "    .dataframe tbody tr th {\n",
       "        vertical-align: top;\n",
       "    }\n",
       "\n",
       "    .dataframe thead th {\n",
       "        text-align: right;\n",
       "    }\n",
       "</style>\n",
       "<table border=\"1\" class=\"dataframe\">\n",
       "  <thead>\n",
       "    <tr style=\"text-align: right;\">\n",
       "      <th></th>\n",
       "      <th>Country</th>\n",
       "      <th>YearsCode</th>\n",
       "      <th>Employment</th>\n",
       "      <th>ConvertedComp</th>\n",
       "      <th>west_or_india</th>\n",
       "    </tr>\n",
       "  </thead>\n",
       "  <tbody>\n",
       "    <tr>\n",
       "      <th>3</th>\n",
       "      <td>United States</td>\n",
       "      <td>3</td>\n",
       "      <td>Employed full-time</td>\n",
       "      <td>61000.0</td>\n",
       "      <td>western</td>\n",
       "    </tr>\n",
       "    <tr>\n",
       "      <th>4</th>\n",
       "      <td>Ukraine</td>\n",
       "      <td>16</td>\n",
       "      <td>Employed full-time</td>\n",
       "      <td>NaN</td>\n",
       "      <td>other</td>\n",
       "    </tr>\n",
       "    <tr>\n",
       "      <th>8</th>\n",
       "      <td>New Zealand</td>\n",
       "      <td>12</td>\n",
       "      <td>Employed full-time</td>\n",
       "      <td>95179.0</td>\n",
       "      <td>other</td>\n",
       "    </tr>\n",
       "    <tr>\n",
       "      <th>9</th>\n",
       "      <td>India</td>\n",
       "      <td>12</td>\n",
       "      <td>Employed full-time</td>\n",
       "      <td>13293.0</td>\n",
       "      <td>indian</td>\n",
       "    </tr>\n",
       "    <tr>\n",
       "      <th>12</th>\n",
       "      <td>United States</td>\n",
       "      <td>17</td>\n",
       "      <td>Employed full-time</td>\n",
       "      <td>90000.0</td>\n",
       "      <td>western</td>\n",
       "    </tr>\n",
       "    <tr>\n",
       "      <th>...</th>\n",
       "      <td>...</td>\n",
       "      <td>...</td>\n",
       "      <td>...</td>\n",
       "      <td>...</td>\n",
       "      <td>...</td>\n",
       "    </tr>\n",
       "    <tr>\n",
       "      <th>88325</th>\n",
       "      <td>United States</td>\n",
       "      <td>12</td>\n",
       "      <td>Employed full-time</td>\n",
       "      <td>130000.0</td>\n",
       "      <td>western</td>\n",
       "    </tr>\n",
       "    <tr>\n",
       "      <th>88326</th>\n",
       "      <td>Finland</td>\n",
       "      <td>17</td>\n",
       "      <td>Employed full-time</td>\n",
       "      <td>82488.0</td>\n",
       "      <td>western</td>\n",
       "    </tr>\n",
       "    <tr>\n",
       "      <th>88328</th>\n",
       "      <td>Austria</td>\n",
       "      <td>18</td>\n",
       "      <td>Employed full-time</td>\n",
       "      <td>68745.0</td>\n",
       "      <td>western</td>\n",
       "    </tr>\n",
       "    <tr>\n",
       "      <th>88329</th>\n",
       "      <td>Netherlands</td>\n",
       "      <td>10</td>\n",
       "      <td>Employed full-time</td>\n",
       "      <td>588012.0</td>\n",
       "      <td>western</td>\n",
       "    </tr>\n",
       "    <tr>\n",
       "      <th>88330</th>\n",
       "      <td>Greece</td>\n",
       "      <td>9</td>\n",
       "      <td>Employed full-time</td>\n",
       "      <td>22915.0</td>\n",
       "      <td>other</td>\n",
       "    </tr>\n",
       "  </tbody>\n",
       "</table>\n",
       "<p>55405 rows × 5 columns</p>\n",
       "</div>"
      ],
      "text/plain": [
       "             Country YearsCode          Employment  ConvertedComp  \\\n",
       "3      United States         3  Employed full-time        61000.0   \n",
       "4            Ukraine        16  Employed full-time            NaN   \n",
       "8        New Zealand        12  Employed full-time        95179.0   \n",
       "9              India        12  Employed full-time        13293.0   \n",
       "12     United States        17  Employed full-time        90000.0   \n",
       "...              ...       ...                 ...            ...   \n",
       "88325  United States        12  Employed full-time       130000.0   \n",
       "88326        Finland        17  Employed full-time        82488.0   \n",
       "88328        Austria        18  Employed full-time        68745.0   \n",
       "88329    Netherlands        10  Employed full-time       588012.0   \n",
       "88330         Greece         9  Employed full-time        22915.0   \n",
       "\n",
       "      west_or_india  \n",
       "3           western  \n",
       "4             other  \n",
       "8             other  \n",
       "9            indian  \n",
       "12          western  \n",
       "...             ...  \n",
       "88325       western  \n",
       "88326       western  \n",
       "88328       western  \n",
       "88329       western  \n",
       "88330         other  \n",
       "\n",
       "[55405 rows x 5 columns]"
      ]
     },
     "execution_count": 19,
     "metadata": {},
     "output_type": "execute_result"
    }
   ],
   "source": [
    "useful_columns_2019 = ['Country', 'YearsCode', 'Employment','ConvertedComp', 'west_or_india']\n",
    "# query is used to Query the columns of a DataFrame with a boolean expression\n",
    "useful_df_2019 = pd.DataFrame(df_2019.query(\"MainBranch == 'I am a developer by profession' and Employment == 'Employed full-time'\"))[useful_columns_2019]\n",
    "\n",
    "useful_df_2019"
   ]
  },
  {
   "cell_type": "markdown",
   "metadata": {
    "papermill": {
     "duration": 0.046303,
     "end_time": "2021-01-24T12:35:43.294952",
     "exception": false,
     "start_time": "2021-01-24T12:35:43.248649",
     "status": "completed"
    },
    "tags": []
   },
   "source": [
    "In 2019 data YearCode are already interger so need not convert using a function.\n",
    "\n",
    "Since the data from 2017 contains Years of coding experience less than 30 years, for 2019 data also I am removing all years of coding above 30. This would be helpful for comparision\n"
   ]
  },
  {
   "cell_type": "code",
   "execution_count": 20,
   "metadata": {
    "execution": {
     "iopub.execute_input": "2021-01-24T12:35:43.404073Z",
     "iopub.status.busy": "2021-01-24T12:35:43.403292Z",
     "iopub.status.idle": "2021-01-24T12:35:43.427933Z",
     "shell.execute_reply": "2021-01-24T12:35:43.427351Z"
    },
    "papermill": {
     "duration": 0.086876,
     "end_time": "2021-01-24T12:35:43.428084",
     "exception": false,
     "start_time": "2021-01-24T12:35:43.341208",
     "status": "completed"
    },
    "tags": []
   },
   "outputs": [],
   "source": [
    "useful_df_2019.drop(useful_df_2019[useful_df_2019['YearsCode'] == 'Less than 1 year'].index, inplace = True) \n",
    "useful_df_2019.drop(useful_df_2019[useful_df_2019['YearsCode'] == 'More than 50 years'].index, inplace = True) "
   ]
  },
  {
   "cell_type": "code",
   "execution_count": 21,
   "metadata": {
    "execution": {
     "iopub.execute_input": "2021-01-24T12:35:43.525270Z",
     "iopub.status.busy": "2021-01-24T12:35:43.524580Z",
     "iopub.status.idle": "2021-01-24T12:35:43.556905Z",
     "shell.execute_reply": "2021-01-24T12:35:43.556374Z"
    },
    "papermill": {
     "duration": 0.082496,
     "end_time": "2021-01-24T12:35:43.557055",
     "exception": false,
     "start_time": "2021-01-24T12:35:43.474559",
     "status": "completed"
    },
    "tags": []
   },
   "outputs": [
    {
     "data": {
      "text/html": [
       "<div>\n",
       "<style scoped>\n",
       "    .dataframe tbody tr th:only-of-type {\n",
       "        vertical-align: middle;\n",
       "    }\n",
       "\n",
       "    .dataframe tbody tr th {\n",
       "        vertical-align: top;\n",
       "    }\n",
       "\n",
       "    .dataframe thead th {\n",
       "        text-align: right;\n",
       "    }\n",
       "</style>\n",
       "<table border=\"1\" class=\"dataframe\">\n",
       "  <thead>\n",
       "    <tr style=\"text-align: right;\">\n",
       "      <th></th>\n",
       "      <th></th>\n",
       "      <th>ConvertedComp</th>\n",
       "    </tr>\n",
       "    <tr>\n",
       "      <th>west_or_india</th>\n",
       "      <th>YearsCode</th>\n",
       "      <th></th>\n",
       "    </tr>\n",
       "  </thead>\n",
       "  <tbody>\n",
       "    <tr>\n",
       "      <th rowspan=\"5\" valign=\"top\">indian</th>\n",
       "      <th>1</th>\n",
       "      <td>7180.586957</td>\n",
       "    </tr>\n",
       "    <tr>\n",
       "      <th>10</th>\n",
       "      <td>33504.346626</td>\n",
       "    </tr>\n",
       "    <tr>\n",
       "      <th>11</th>\n",
       "      <td>29292.936364</td>\n",
       "    </tr>\n",
       "    <tr>\n",
       "      <th>12</th>\n",
       "      <td>56641.443114</td>\n",
       "    </tr>\n",
       "    <tr>\n",
       "      <th>13</th>\n",
       "      <td>64214.226415</td>\n",
       "    </tr>\n",
       "    <tr>\n",
       "      <th>...</th>\n",
       "      <th>...</th>\n",
       "      <td>...</td>\n",
       "    </tr>\n",
       "    <tr>\n",
       "      <th rowspan=\"5\" valign=\"top\">western</th>\n",
       "      <th>50</th>\n",
       "      <td>198198.111111</td>\n",
       "    </tr>\n",
       "    <tr>\n",
       "      <th>6</th>\n",
       "      <td>166901.133260</td>\n",
       "    </tr>\n",
       "    <tr>\n",
       "      <th>7</th>\n",
       "      <td>166322.429747</td>\n",
       "    </tr>\n",
       "    <tr>\n",
       "      <th>8</th>\n",
       "      <td>170254.173604</td>\n",
       "    </tr>\n",
       "    <tr>\n",
       "      <th>9</th>\n",
       "      <td>182583.305556</td>\n",
       "    </tr>\n",
       "  </tbody>\n",
       "</table>\n",
       "<p>134 rows × 1 columns</p>\n",
       "</div>"
      ],
      "text/plain": [
       "                         ConvertedComp\n",
       "west_or_india YearsCode               \n",
       "indian        1            7180.586957\n",
       "              10          33504.346626\n",
       "              11          29292.936364\n",
       "              12          56641.443114\n",
       "              13          64214.226415\n",
       "...                                ...\n",
       "western       50         198198.111111\n",
       "              6          166901.133260\n",
       "              7          166322.429747\n",
       "              8          170254.173604\n",
       "              9          182583.305556\n",
       "\n",
       "[134 rows x 1 columns]"
      ]
     },
     "execution_count": 21,
     "metadata": {},
     "output_type": "execute_result"
    }
   ],
   "source": [
    "# group the column based on new created column west_or_india and yearscoded\n",
    "west_or_india_2019 = useful_df_2019.groupby(['west_or_india','YearsCode']).mean()\n",
    "west_or_india_2019"
   ]
  },
  {
   "cell_type": "code",
   "execution_count": 22,
   "metadata": {
    "execution": {
     "iopub.execute_input": "2021-01-24T12:35:43.655094Z",
     "iopub.status.busy": "2021-01-24T12:35:43.654396Z",
     "iopub.status.idle": "2021-01-24T12:35:43.660829Z",
     "shell.execute_reply": "2021-01-24T12:35:43.661408Z"
    },
    "papermill": {
     "duration": 0.056835,
     "end_time": "2021-01-24T12:35:43.661556",
     "exception": false,
     "start_time": "2021-01-24T12:35:43.604721",
     "status": "completed"
    },
    "tags": []
   },
   "outputs": [],
   "source": [
    "# converting column Yearscode to numeric values\n",
    "west_or_india_2019_comparison = west_or_india_2019.reset_index()\n",
    "west_or_india_2019_comparison['YearsCode'] = pd.to_numeric(west_or_india_2019_comparison['YearsCode'])"
   ]
  },
  {
   "cell_type": "markdown",
   "metadata": {
    "papermill": {
     "duration": 0.048189,
     "end_time": "2021-01-24T12:35:43.758025",
     "exception": false,
     "start_time": "2021-01-24T12:35:43.709836",
     "status": "completed"
    },
    "tags": []
   },
   "source": [
    "Since the data from 2017 contains Years of coding experience less than 30 years, for 2019 data also I am removing all years of coding above 30.\n",
    "\n",
    "This would be helpful for comparision"
   ]
  },
  {
   "cell_type": "code",
   "execution_count": 23,
   "metadata": {
    "execution": {
     "iopub.execute_input": "2021-01-24T12:35:43.857097Z",
     "iopub.status.busy": "2021-01-24T12:35:43.856205Z",
     "iopub.status.idle": "2021-01-24T12:35:43.871242Z",
     "shell.execute_reply": "2021-01-24T12:35:43.870595Z"
    },
    "papermill": {
     "duration": 0.065776,
     "end_time": "2021-01-24T12:35:43.871354",
     "exception": false,
     "start_time": "2021-01-24T12:35:43.805578",
     "status": "completed"
    },
    "tags": []
   },
   "outputs": [
    {
     "data": {
      "text/html": [
       "<div>\n",
       "<style scoped>\n",
       "    .dataframe tbody tr th:only-of-type {\n",
       "        vertical-align: middle;\n",
       "    }\n",
       "\n",
       "    .dataframe tbody tr th {\n",
       "        vertical-align: top;\n",
       "    }\n",
       "\n",
       "    .dataframe thead th {\n",
       "        text-align: right;\n",
       "    }\n",
       "</style>\n",
       "<table border=\"1\" class=\"dataframe\">\n",
       "  <thead>\n",
       "    <tr style=\"text-align: right;\">\n",
       "      <th></th>\n",
       "      <th>west_or_india</th>\n",
       "      <th>YearsCode</th>\n",
       "      <th>ConvertedComp</th>\n",
       "    </tr>\n",
       "  </thead>\n",
       "  <tbody>\n",
       "    <tr>\n",
       "      <th>0</th>\n",
       "      <td>indian</td>\n",
       "      <td>1</td>\n",
       "      <td>7180.586957</td>\n",
       "    </tr>\n",
       "    <tr>\n",
       "      <th>35</th>\n",
       "      <td>other</td>\n",
       "      <td>1</td>\n",
       "      <td>12035.219780</td>\n",
       "    </tr>\n",
       "    <tr>\n",
       "      <th>84</th>\n",
       "      <td>western</td>\n",
       "      <td>1</td>\n",
       "      <td>157356.771605</td>\n",
       "    </tr>\n",
       "    <tr>\n",
       "      <th>46</th>\n",
       "      <td>other</td>\n",
       "      <td>2</td>\n",
       "      <td>24562.329966</td>\n",
       "    </tr>\n",
       "    <tr>\n",
       "      <th>95</th>\n",
       "      <td>western</td>\n",
       "      <td>2</td>\n",
       "      <td>162804.259635</td>\n",
       "    </tr>\n",
       "    <tr>\n",
       "      <th>...</th>\n",
       "      <td>...</td>\n",
       "      <td>...</td>\n",
       "      <td>...</td>\n",
       "    </tr>\n",
       "    <tr>\n",
       "      <th>102</th>\n",
       "      <td>western</td>\n",
       "      <td>26</td>\n",
       "      <td>180961.340909</td>\n",
       "    </tr>\n",
       "    <tr>\n",
       "      <th>53</th>\n",
       "      <td>other</td>\n",
       "      <td>26</td>\n",
       "      <td>148450.720000</td>\n",
       "    </tr>\n",
       "    <tr>\n",
       "      <th>18</th>\n",
       "      <td>indian</td>\n",
       "      <td>26</td>\n",
       "      <td>14469.750000</td>\n",
       "    </tr>\n",
       "    <tr>\n",
       "      <th>54</th>\n",
       "      <td>other</td>\n",
       "      <td>27</td>\n",
       "      <td>129252.450980</td>\n",
       "    </tr>\n",
       "    <tr>\n",
       "      <th>19</th>\n",
       "      <td>indian</td>\n",
       "      <td>27</td>\n",
       "      <td>16791.000000</td>\n",
       "    </tr>\n",
       "  </tbody>\n",
       "</table>\n",
       "<p>80 rows × 3 columns</p>\n",
       "</div>"
      ],
      "text/plain": [
       "    west_or_india  YearsCode  ConvertedComp\n",
       "0          indian          1    7180.586957\n",
       "35          other          1   12035.219780\n",
       "84        western          1  157356.771605\n",
       "46          other          2   24562.329966\n",
       "95        western          2  162804.259635\n",
       "..            ...        ...            ...\n",
       "102       western         26  180961.340909\n",
       "53          other         26  148450.720000\n",
       "18         indian         26   14469.750000\n",
       "54          other         27  129252.450980\n",
       "19         indian         27   16791.000000\n",
       "\n",
       "[80 rows x 3 columns]"
      ]
     },
     "execution_count": 23,
     "metadata": {},
     "output_type": "execute_result"
    }
   ],
   "source": [
    "# sort based on years of coding\n",
    "west_or_india_2019_comparison = west_or_india_2019_comparison.sort_values(by='YearsCode')\n",
    "# choose only startng 80 values so that age above 30 are removed\n",
    "west_or_india_2019_comparison = west_or_india_2019_comparison.iloc[:80]\n",
    "west_or_india_2019_comparison\n"
   ]
  },
  {
   "cell_type": "code",
   "execution_count": 24,
   "metadata": {
    "execution": {
     "iopub.execute_input": "2021-01-24T12:35:43.972115Z",
     "iopub.status.busy": "2021-01-24T12:35:43.971404Z",
     "iopub.status.idle": "2021-01-24T12:35:43.977213Z",
     "shell.execute_reply": "2021-01-24T12:35:43.976517Z"
    },
    "papermill": {
     "duration": 0.057409,
     "end_time": "2021-01-24T12:35:43.977337",
     "exception": false,
     "start_time": "2021-01-24T12:35:43.919928",
     "status": "completed"
    },
    "tags": []
   },
   "outputs": [],
   "source": [
    "# index are set based on YearsCodedJob value\n",
    "west_or_india_2019_comparison.set_index('YearsCode', inplace=True)"
   ]
  },
  {
   "cell_type": "code",
   "execution_count": 25,
   "metadata": {
    "execution": {
     "iopub.execute_input": "2021-01-24T12:35:44.077483Z",
     "iopub.status.busy": "2021-01-24T12:35:44.076776Z",
     "iopub.status.idle": "2021-01-24T12:35:44.342072Z",
     "shell.execute_reply": "2021-01-24T12:35:44.341326Z"
    },
    "papermill": {
     "duration": 0.315824,
     "end_time": "2021-01-24T12:35:44.342199",
     "exception": false,
     "start_time": "2021-01-24T12:35:44.026375",
     "status": "completed"
    },
    "tags": []
   },
   "outputs": [
    {
     "data": {
      "text/plain": [
       "Text(0, 0.5, 'Average Salary')"
      ]
     },
     "execution_count": 25,
     "metadata": {},
     "output_type": "execute_result"
    },
    {
     "data": {
      "image/png": "[encoded data removed]",
      "text/plain": [
       "<Figure size 1152x576 with 1 Axes>"
      ]
     },
     "metadata": {
      "needs_background": "light"
     },
     "output_type": "display_data"
    }
   ],
   "source": [
    "#Plot the Salary Comparison between Western World and india\n",
    "plt.figure(figsize=(16, 8))\n",
    "west_or_india_2017_comparison.groupby('west_or_india')['Salary'].plot(legend=True)\n",
    "plt.title(\"Salary Comparison between Western World and India\");\n",
    "plt.xlabel('YearsCodedJob')\n",
    "plt.ylabel('Average Salary')\n",
    "\n"
   ]
  },
  {
   "cell_type": "code",
   "execution_count": 26,
   "metadata": {
    "execution": {
     "iopub.execute_input": "2021-01-24T12:35:44.457732Z",
     "iopub.status.busy": "2021-01-24T12:35:44.457034Z",
     "iopub.status.idle": "2021-01-24T12:35:44.769120Z",
     "shell.execute_reply": "2021-01-24T12:35:44.768530Z"
    },
    "papermill": {
     "duration": 0.376358,
     "end_time": "2021-01-24T12:35:44.769239",
     "exception": false,
     "start_time": "2021-01-24T12:35:44.392881",
     "status": "completed"
    },
    "tags": []
   },
   "outputs": [
    {
     "data": {
      "text/plain": [
       "Text(0, 0.5, 'Average Salary')"
      ]
     },
     "execution_count": 26,
     "metadata": {},
     "output_type": "execute_result"
    },
    {
     "data": {
      "image/png": "[encoded data removed]",
      "text/plain": [
       "<Figure size 1152x576 with 1 Axes>"
      ]
     },
     "metadata": {
      "needs_background": "light"
     },
     "output_type": "display_data"
    }
   ],
   "source": [
    "#Plot the Salary Comparison between Western World and india\n",
    "plt.figure(figsize=(16, 8))\n",
    "west_or_india_2019_comparison.groupby('west_or_india')['ConvertedComp'].plot(legend=True)\n",
    "plt.title(\"Salary Comparison between Western World and India\");\n",
    "plt.xlabel('YearsCode')\n",
    "plt.ylabel('Average Salary')"
   ]
  },
  {
   "cell_type": "markdown",
   "metadata": {
    "papermill": {
     "duration": 0.05383,
     "end_time": "2021-01-24T12:35:44.877505",
     "exception": false,
     "start_time": "2021-01-24T12:35:44.823675",
     "status": "completed"
    },
    "tags": []
   },
   "source": [
    "## Evaluation\n",
    "\n",
    "Here you can see a programmer’s salary in the India is much lower than that in the west no matter how many years you are coding.\n"
   ]
  },
  {
   "cell_type": "markdown",
   "metadata": {
    "papermill": {
     "duration": 0.054566,
     "end_time": "2021-01-24T12:35:44.986117",
     "exception": false,
     "start_time": "2021-01-24T12:35:44.931551",
     "status": "completed"
    },
    "tags": []
   },
   "source": [
    "Since CareerSatisfaction and JobSatisfaction are only present in 2017, I am making analysis of this based on only 2017 data"
   ]
  },
  {
   "cell_type": "code",
   "execution_count": 27,
   "metadata": {
    "execution": {
     "iopub.execute_input": "2021-01-24T12:35:45.101544Z",
     "iopub.status.busy": "2021-01-24T12:35:45.100813Z",
     "iopub.status.idle": "2021-01-24T12:35:45.105412Z",
     "shell.execute_reply": "2021-01-24T12:35:45.104649Z"
    },
    "papermill": {
     "duration": 0.066347,
     "end_time": "2021-01-24T12:35:45.105531",
     "exception": false,
     "start_time": "2021-01-24T12:35:45.039184",
     "status": "completed"
    },
    "tags": []
   },
   "outputs": [
    {
     "data": {
      "text/plain": [
       "west_or_india\n",
       "indian     7.148171\n",
       "other      7.450919\n",
       "western    7.576207\n",
       "Name: CareerSatisfaction, dtype: float64"
      ]
     },
     "execution_count": 27,
     "metadata": {},
     "output_type": "execute_result"
    }
   ],
   "source": [
    "west_or_india_2017.groupby('west_or_india').mean().CareerSatisfaction"
   ]
  },
  {
   "cell_type": "code",
   "execution_count": 28,
   "metadata": {
    "execution": {
     "iopub.execute_input": "2021-01-24T12:35:45.221789Z",
     "iopub.status.busy": "2021-01-24T12:35:45.221017Z",
     "iopub.status.idle": "2021-01-24T12:35:45.225154Z",
     "shell.execute_reply": "2021-01-24T12:35:45.224485Z"
    },
    "papermill": {
     "duration": 0.065717,
     "end_time": "2021-01-24T12:35:45.225276",
     "exception": false,
     "start_time": "2021-01-24T12:35:45.159559",
     "status": "completed"
    },
    "tags": []
   },
   "outputs": [
    {
     "data": {
      "text/plain": [
       "west_or_india\n",
       "indian     6.414261\n",
       "other      7.022703\n",
       "western    7.122752\n",
       "Name: JobSatisfaction, dtype: float64"
      ]
     },
     "execution_count": 28,
     "metadata": {},
     "output_type": "execute_result"
    }
   ],
   "source": [
    "west_or_india_2017.groupby('west_or_india').mean().JobSatisfaction"
   ]
  },
  {
   "cell_type": "code",
   "execution_count": 29,
   "metadata": {
    "execution": {
     "iopub.execute_input": "2021-01-24T12:35:45.349646Z",
     "iopub.status.busy": "2021-01-24T12:35:45.344621Z",
     "iopub.status.idle": "2021-01-24T12:35:45.506251Z",
     "shell.execute_reply": "2021-01-24T12:35:45.504985Z"
    },
    "papermill": {
     "duration": 0.22698,
     "end_time": "2021-01-24T12:35:45.506394",
     "exception": false,
     "start_time": "2021-01-24T12:35:45.279414",
     "status": "completed"
    },
    "tags": []
   },
   "outputs": [
    {
     "data": {
      "image/png": "[encoded data removed]",
      "text/plain": [
       "<Figure size 432x288 with 1 Axes>"
      ]
     },
     "metadata": {
      "needs_background": "light"
     },
     "output_type": "display_data"
    }
   ],
   "source": [
    "west_or_india_2017.groupby('west_or_india').mean().CareerSatisfaction.plot(legend=True);\n",
    "west_or_india_2017.groupby('west_or_india').mean().JobSatisfaction.plot(legend=True);"
   ]
  },
  {
   "cell_type": "markdown",
   "metadata": {
    "papermill": {
     "duration": 0.056163,
     "end_time": "2021-01-24T12:35:45.617950",
     "exception": false,
     "start_time": "2021-01-24T12:35:45.561787",
     "status": "completed"
    },
    "tags": []
   },
   "source": [
    "After comparing the salary based on Years a programmer has been coded between the India and the western world. \n",
    "\n",
    "I found that the salary of an indian programmer is much lower than that of the western no matter how many years they are coded.\n",
    "\n",
    "Finally, found that the Career and Job Satisfaction of the western programmers are much higher than those of the indian programmers.\n",
    "\n",
    "So if you want to earn good amount of salary with Career and Job Satisfaction as you grow experience it is better to move to Western countries."
   ]
  },
  {
   "cell_type": "markdown",
   "metadata": {
    "papermill": {
     "duration": 0.059689,
     "end_time": "2021-01-24T12:35:45.733477",
     "exception": false,
     "start_time": "2021-01-24T12:35:45.673788",
     "status": "completed"
    },
    "tags": []
   },
   "source": [
    "# 3. Which country has the most number of developers in last 4 years? and where does India stand in terms of total number of developers <a name=\"Question3\"></a>\n"
   ]
  },
  {
   "cell_type": "markdown",
   "metadata": {
    "papermill": {
     "duration": 0.068519,
     "end_time": "2021-01-24T12:35:45.873061",
     "exception": false,
     "start_time": "2021-01-24T12:35:45.804542",
     "status": "completed"
    },
    "tags": []
   },
   "source": [
    "Can you guess where do you find most number of developers in the world from year 2017 to 2020?\n",
    "\n",
    "We write a function to get a tuple with details of top 2 countries details\n",
    "\n",
    "Plot top 2 country with most number of developers"
   ]
  },
  {
   "cell_type": "code",
   "execution_count": 30,
   "metadata": {
    "execution": {
     "iopub.execute_input": "2021-01-24T12:35:45.993939Z",
     "iopub.status.busy": "2021-01-24T12:35:45.992983Z",
     "iopub.status.idle": "2021-01-24T12:35:45.995659Z",
     "shell.execute_reply": "2021-01-24T12:35:45.996130Z"
    },
    "papermill": {
     "duration": 0.065837,
     "end_time": "2021-01-24T12:35:45.996294",
     "exception": false,
     "start_time": "2021-01-24T12:35:45.930457",
     "status": "completed"
    },
    "tags": []
   },
   "outputs": [],
   "source": [
    "def top2_country_with_most_developers(dictionary, rows):\n",
    "    '''\n",
    "    Function to output top 2 countries with the most number of developers.\n",
    "    \n",
    "    Parameters:\n",
    "    dictionary : dictionary with number of developers for each country\n",
    "    row: Number of total developers\n",
    "    \n",
    "    Return: \n",
    "    tuple : top 2 countries with the most number of developers and the value\n",
    "    '''\n",
    "    i = pd.Series(dictionary).nlargest(n=2)\n",
    "    return i.index[0], i[0]/rows * 100,i.index[1],i[1]/rows * 100"
   ]
  },
  {
   "cell_type": "code",
   "execution_count": 31,
   "metadata": {
    "execution": {
     "iopub.execute_input": "2021-01-24T12:35:46.139658Z",
     "iopub.status.busy": "2021-01-24T12:35:46.135073Z",
     "iopub.status.idle": "2021-01-24T12:35:46.238479Z",
     "shell.execute_reply": "2021-01-24T12:35:46.237856Z"
    },
    "papermill": {
     "duration": 0.186445,
     "end_time": "2021-01-24T12:35:46.238621",
     "exception": false,
     "start_time": "2021-01-24T12:35:46.052176",
     "status": "completed"
    },
    "tags": []
   },
   "outputs": [],
   "source": [
    "# tuple with name and value of top 2 countries with the most number of developers\n",
    "developers_location_2017 = top2_country_with_most_developers(df_2017['Country'].value_counts().to_dict(), df_2017['Country'].count())\n",
    "developers_location_2018 = top2_country_with_most_developers(df_2018['Country'].value_counts().to_dict(), df_2018['Country'].count())\n",
    "developers_location_2019 = top2_country_with_most_developers(df_2019['Country'].value_counts().to_dict(), df_2019['Country'].count())\n",
    "developers_location_2020 = top2_country_with_most_developers(df_2020['Country'].value_counts().to_dict(), df_2020['Country'].count())\n",
    "\n",
    "# developers_location_dict is dictionary with year and top 2 countries developer details\n",
    "developers_location_dict = {\n",
    "    '2017': developers_location_2017,\n",
    "    '2018': developers_location_2018,\n",
    "    '2019': developers_location_2019,\n",
    "    '2020': developers_location_2020\n",
    "}"
   ]
  },
  {
   "cell_type": "markdown",
   "metadata": {
    "papermill": {
     "duration": 0.054306,
     "end_time": "2021-01-24T12:35:46.348460",
     "exception": false,
     "start_time": "2021-01-24T12:35:46.294154",
     "status": "completed"
    },
    "tags": []
   },
   "source": [
    "developers_location_dict is dictionary with year and top 2 countries developer details."
   ]
  },
  {
   "cell_type": "code",
   "execution_count": 32,
   "metadata": {
    "execution": {
     "iopub.execute_input": "2021-01-24T12:35:46.464167Z",
     "iopub.status.busy": "2021-01-24T12:35:46.463117Z",
     "iopub.status.idle": "2021-01-24T12:35:46.468123Z",
     "shell.execute_reply": "2021-01-24T12:35:46.467492Z"
    },
    "papermill": {
     "duration": 0.064636,
     "end_time": "2021-01-24T12:35:46.468252",
     "exception": false,
     "start_time": "2021-01-24T12:35:46.403616",
     "status": "completed"
    },
    "tags": []
   },
   "outputs": [
    {
     "data": {
      "text/plain": [
       "('United States', 22.289461394769614, 'India', 10.112468866749689)"
      ]
     },
     "execution_count": 32,
     "metadata": {},
     "output_type": "execute_result"
    }
   ],
   "source": [
    "developers_location_2017"
   ]
  },
  {
   "cell_type": "markdown",
   "metadata": {
    "papermill": {
     "duration": 0.056581,
     "end_time": "2021-01-24T12:35:46.580791",
     "exception": false,
     "start_time": "2021-01-24T12:35:46.524210",
     "status": "completed"
    },
    "tags": []
   },
   "source": [
    "Create a dataframe with columns percentage of top 1 country developers,percentage of top 2nd country developers and add relevant data from developer_location_dict"
   ]
  },
  {
   "cell_type": "code",
   "execution_count": 33,
   "metadata": {
    "execution": {
     "iopub.execute_input": "2021-01-24T12:35:46.701707Z",
     "iopub.status.busy": "2021-01-24T12:35:46.700944Z",
     "iopub.status.idle": "2021-01-24T12:35:46.704344Z",
     "shell.execute_reply": "2021-01-24T12:35:46.703639Z"
    },
    "papermill": {
     "duration": 0.066711,
     "end_time": "2021-01-24T12:35:46.704462",
     "exception": false,
     "start_time": "2021-01-24T12:35:46.637751",
     "status": "completed"
    },
    "tags": []
   },
   "outputs": [],
   "source": [
    "developers_location_df=pd.DataFrame({'United States': list(map(lambda x: x[1], developers_location_dict.values())),\n",
    "                                     'India': list(map(lambda x: x[3], developers_location_dict.values()))},index=list(developers_location_dict.keys()) ) "
   ]
  },
  {
   "cell_type": "code",
   "execution_count": 34,
   "metadata": {
    "execution": {
     "iopub.execute_input": "2021-01-24T12:35:46.830078Z",
     "iopub.status.busy": "2021-01-24T12:35:46.829033Z",
     "iopub.status.idle": "2021-01-24T12:35:46.834072Z",
     "shell.execute_reply": "2021-01-24T12:35:46.833374Z"
    },
    "papermill": {
     "duration": 0.072145,
     "end_time": "2021-01-24T12:35:46.834204",
     "exception": false,
     "start_time": "2021-01-24T12:35:46.762059",
     "status": "completed"
    },
    "tags": []
   },
   "outputs": [
    {
     "data": {
      "text/html": [
       "<div>\n",
       "<style scoped>\n",
       "    .dataframe tbody tr th:only-of-type {\n",
       "        vertical-align: middle;\n",
       "    }\n",
       "\n",
       "    .dataframe tbody tr th {\n",
       "        vertical-align: top;\n",
       "    }\n",
       "\n",
       "    .dataframe thead th {\n",
       "        text-align: right;\n",
       "    }\n",
       "</style>\n",
       "<table border=\"1\" class=\"dataframe\">\n",
       "  <thead>\n",
       "    <tr style=\"text-align: right;\">\n",
       "      <th></th>\n",
       "      <th>United States</th>\n",
       "      <th>India</th>\n",
       "    </tr>\n",
       "  </thead>\n",
       "  <tbody>\n",
       "    <tr>\n",
       "      <th>2017</th>\n",
       "      <td>22.289461</td>\n",
       "      <td>10.112469</td>\n",
       "    </tr>\n",
       "    <tr>\n",
       "      <th>2018</th>\n",
       "      <td>20.630212</td>\n",
       "      <td>13.938015</td>\n",
       "    </tr>\n",
       "    <tr>\n",
       "      <th>2019</th>\n",
       "      <td>23.604241</td>\n",
       "      <td>10.209462</td>\n",
       "    </tr>\n",
       "    <tr>\n",
       "      <th>2020</th>\n",
       "      <td>19.460919</td>\n",
       "      <td>13.114933</td>\n",
       "    </tr>\n",
       "  </tbody>\n",
       "</table>\n",
       "</div>"
      ],
      "text/plain": [
       "      United States      India\n",
       "2017      22.289461  10.112469\n",
       "2018      20.630212  13.938015\n",
       "2019      23.604241  10.209462\n",
       "2020      19.460919  13.114933"
      ]
     },
     "execution_count": 34,
     "metadata": {},
     "output_type": "execute_result"
    }
   ],
   "source": [
    "developers_location_df"
   ]
  },
  {
   "cell_type": "code",
   "execution_count": 35,
   "metadata": {
    "execution": {
     "iopub.execute_input": "2021-01-24T12:35:46.968285Z",
     "iopub.status.busy": "2021-01-24T12:35:46.967196Z",
     "iopub.status.idle": "2021-01-24T12:35:47.136030Z",
     "shell.execute_reply": "2021-01-24T12:35:47.135336Z"
    },
    "papermill": {
     "duration": 0.240517,
     "end_time": "2021-01-24T12:35:47.136147",
     "exception": false,
     "start_time": "2021-01-24T12:35:46.895630",
     "status": "completed"
    },
    "tags": []
   },
   "outputs": [
    {
     "data": {
      "image/png": "[encoded data removed]",
      "text/plain": [
       "<Figure size 1152x576 with 1 Axes>"
      ]
     },
     "metadata": {
      "needs_background": "light"
     },
     "output_type": "display_data"
    }
   ],
   "source": [
    "ax = developers_location_df.plot.bar(figsize=(16,8))"
   ]
  },
  {
   "cell_type": "code",
   "execution_count": 36,
   "metadata": {
    "execution": {
     "iopub.execute_input": "2021-01-24T12:35:47.257212Z",
     "iopub.status.busy": "2021-01-24T12:35:47.256421Z",
     "iopub.status.idle": "2021-01-24T12:35:47.261136Z",
     "shell.execute_reply": "2021-01-24T12:35:47.260468Z"
    },
    "papermill": {
     "duration": 0.067422,
     "end_time": "2021-01-24T12:35:47.261320",
     "exception": false,
     "start_time": "2021-01-24T12:35:47.193898",
     "status": "completed"
    },
    "tags": []
   },
   "outputs": [
    {
     "data": {
      "text/plain": [
       "{'2017': ('United States', 22.289461394769614, 'India', 10.112468866749689),\n",
       " '2018': ('United States', 20.63021240717979, 'India', 13.93801489186636),\n",
       " '2019': ('United States', 23.604241078973757, 'India', 10.209462428592355),\n",
       " '2020': ('United States', 19.460918966163064, 'India', 13.114933200149832)}"
      ]
     },
     "execution_count": 36,
     "metadata": {},
     "output_type": "execute_result"
    }
   ],
   "source": [
    "developers_location_dict"
   ]
  },
  {
   "cell_type": "markdown",
   "metadata": {
    "papermill": {
     "duration": 0.057667,
     "end_time": "2021-01-24T12:35:47.376763",
     "exception": false,
     "start_time": "2021-01-24T12:35:47.319096",
     "status": "completed"
    },
    "tags": []
   },
   "source": [
    "## Evaluation\n",
    "\n",
    "According to Stackoverflow, most of the developers on its platform are from United States for each year.  \n",
    "And India has second most number of the developers on Stackoverflow"
   ]
  },
  {
   "cell_type": "markdown",
   "metadata": {
    "papermill": {
     "duration": 0.057477,
     "end_time": "2021-01-24T12:35:47.492160",
     "exception": false,
     "start_time": "2021-01-24T12:35:47.434683",
     "status": "completed"
    },
    "tags": []
   },
   "source": [
    "# 4. Will you earn more salary if you contribute to open source? <a name=\"Question4\"></a>"
   ]
  },
  {
   "cell_type": "markdown",
   "metadata": {
    "papermill": {
     "duration": 0.058329,
     "end_time": "2021-01-24T12:35:47.608168",
     "exception": false,
     "start_time": "2021-01-24T12:35:47.549839",
     "status": "completed"
    },
    "tags": []
   },
   "source": [
    "To make this analysis of this question, required column are present only in 2019 dataset, so I am considering 2019 dataset for this question. "
   ]
  },
  {
   "cell_type": "code",
   "execution_count": 37,
   "metadata": {
    "execution": {
     "iopub.execute_input": "2021-01-24T12:35:47.746616Z",
     "iopub.status.busy": "2021-01-24T12:35:47.745856Z",
     "iopub.status.idle": "2021-01-24T12:35:47.802207Z",
     "shell.execute_reply": "2021-01-24T12:35:47.801464Z"
    },
    "papermill": {
     "duration": 0.134161,
     "end_time": "2021-01-24T12:35:47.802362",
     "exception": false,
     "start_time": "2021-01-24T12:35:47.668201",
     "status": "completed"
    },
    "tags": []
   },
   "outputs": [],
   "source": [
    "# take a dataframe with only professional developer\n",
    "professional_developer = df_2019[df_2019['MainBranch'] == 'I am a developer by profession']"
   ]
  },
  {
   "cell_type": "code",
   "execution_count": 38,
   "metadata": {
    "execution": {
     "iopub.execute_input": "2021-01-24T12:35:47.932806Z",
     "iopub.status.busy": "2021-01-24T12:35:47.932068Z",
     "iopub.status.idle": "2021-01-24T12:35:47.948653Z",
     "shell.execute_reply": "2021-01-24T12:35:47.947879Z"
    },
    "papermill": {
     "duration": 0.087359,
     "end_time": "2021-01-24T12:35:47.948796",
     "exception": false,
     "start_time": "2021-01-24T12:35:47.861437",
     "status": "completed"
    },
    "tags": []
   },
   "outputs": [
    {
     "data": {
      "text/html": [
       "<div>\n",
       "<style scoped>\n",
       "    .dataframe tbody tr th:only-of-type {\n",
       "        vertical-align: middle;\n",
       "    }\n",
       "\n",
       "    .dataframe tbody tr th {\n",
       "        vertical-align: top;\n",
       "    }\n",
       "\n",
       "    .dataframe thead th {\n",
       "        text-align: right;\n",
       "    }\n",
       "</style>\n",
       "<table border=\"1\" class=\"dataframe\">\n",
       "  <thead>\n",
       "    <tr style=\"text-align: right;\">\n",
       "      <th></th>\n",
       "      <th>OpenSourcer</th>\n",
       "      <th>ConvertedComp</th>\n",
       "    </tr>\n",
       "  </thead>\n",
       "  <tbody>\n",
       "    <tr>\n",
       "      <th>0</th>\n",
       "      <td>Less than once a month but more than once per ...</td>\n",
       "      <td>129644.995906</td>\n",
       "    </tr>\n",
       "    <tr>\n",
       "      <th>1</th>\n",
       "      <td>Less than once per year</td>\n",
       "      <td>126725.607874</td>\n",
       "    </tr>\n",
       "    <tr>\n",
       "      <th>2</th>\n",
       "      <td>Never</td>\n",
       "      <td>122650.784000</td>\n",
       "    </tr>\n",
       "    <tr>\n",
       "      <th>3</th>\n",
       "      <td>Once a month or more often</td>\n",
       "      <td>134908.020014</td>\n",
       "    </tr>\n",
       "  </tbody>\n",
       "</table>\n",
       "</div>"
      ],
      "text/plain": [
       "                                         OpenSourcer  ConvertedComp\n",
       "0  Less than once a month but more than once per ...  129644.995906\n",
       "1                            Less than once per year  126725.607874\n",
       "2                                              Never  122650.784000\n",
       "3                         Once a month or more often  134908.020014"
      ]
     },
     "execution_count": 38,
     "metadata": {},
     "output_type": "execute_result"
    }
   ],
   "source": [
    "# group the column based on opensourcer and convertedcomp\n",
    "open_salary = professional_developer.groupby('OpenSourcer', as_index=False)['ConvertedComp'].mean()\n",
    "\n",
    "open_salary"
   ]
  },
  {
   "cell_type": "code",
   "execution_count": 39,
   "metadata": {
    "execution": {
     "iopub.execute_input": "2021-01-24T12:35:48.087601Z",
     "iopub.status.busy": "2021-01-24T12:35:48.086761Z",
     "iopub.status.idle": "2021-01-24T12:35:48.243931Z",
     "shell.execute_reply": "2021-01-24T12:35:48.242833Z"
    },
    "papermill": {
     "duration": 0.233639,
     "end_time": "2021-01-24T12:35:48.244087",
     "exception": false,
     "start_time": "2021-01-24T12:35:48.010448",
     "status": "completed"
    },
    "tags": []
   },
   "outputs": [
    {
     "data": {
      "image/png": "[encoded data removed]",
      "text/plain": [
       "<Figure size 1152x576 with 1 Axes>"
      ]
     },
     "metadata": {
      "needs_background": "light"
     },
     "output_type": "display_data"
    }
   ],
   "source": [
    "plt.figure(figsize=(16, 8))\n",
    "sns.barplot(data=open_salary, x='OpenSourcer', y='ConvertedComp')\n",
    "plt.ylim(115000,140000)\n",
    "plt.title('Total Salary and Frequency of Contributing to Open Source')\n",
    "plt.ylabel('Total Salary (USD / year)')\n",
    "plt.xlabel('Contributing to Open Source Frequency')\n",
    "plt.show()"
   ]
  },
  {
   "cell_type": "markdown",
   "metadata": {
    "papermill": {
     "duration": 0.060606,
     "end_time": "2021-01-24T12:35:48.367276",
     "exception": false,
     "start_time": "2021-01-24T12:35:48.306670",
     "status": "completed"
    },
    "tags": []
   },
   "source": [
    "## Evaluation\n",
    "\n",
    "As we can see that the more you contribute to open source, Total salary earned is also increasing.\n",
    "\n",
    "So its better to contribute to open source."
   ]
  }
 ],
 "metadata": {
  "kernelspec": {
   "display_name": "Python 3",
   "language": "python",
   "name": "python3"
  },
  "language_info": {
   "codemirror_mode": {
    "name": "ipython",
    "version": 3
   },
   "file_extension": ".py",
   "mimetype": "text/x-python",
   "name": "python",
   "nbconvert_exporter": "python",
   "pygments_lexer": "ipython3",
   "version": "3.7.6"
  },
  "papermill": {
   "duration": 34.741389,
   "end_time": "2021-01-24T12:35:48.545246",
   "environment_variables": {},
   "exception": null,
   "input_path": "__notebook__.ipynb",
   "output_path": "__notebook__.ipynb",
   "parameters": {},
   "start_time": "2021-01-24T12:35:13.803857",
   "version": "2.1.0"
  }
 },
 "nbformat": 4,
 "nbformat_minor": 4
}
